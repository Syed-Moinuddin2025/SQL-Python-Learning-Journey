{
 "cells": [
  {
   "cell_type": "markdown",
   "metadata": {
    "azdata_cell_guid": "399aaa32-8943-4f53-ae6d-871bcb8f2270"
   },
   "source": [
    " # 🔰 Lesson 1: Python Print Statement aur Comments"
   ]
  },
  {
   "cell_type": "markdown",
   "metadata": {
    "azdata_cell_guid": "e4658454-1dc9-4aae-ad13-11a9a80ef2d0"
   },
   "source": [
    "## Python print() Function   Use to display output"
   ]
  },
  {
   "cell_type": "markdown",
   "metadata": {
    "azdata_cell_guid": "d4dec908-f7bd-4cbf-afb1-d628634af87d"
   },
   "source": [
    "# Lesson 1: Basic Syntax and Print\n",
    "\n",
    "## 📘 Syntax Rules:\n",
    "- No semicolon needed\n",
    "- Indentation matters\n",
    "- Use `print()` to display output\n",
    "\n",
    "## 🧪 Examples:"
   ]
  },
  {
   "cell_type": "markdown",
   "metadata": {
    "azdata_cell_guid": "dc2227e3-bb3f-463b-93cd-33b34c6498bc"
   },
   "source": [
    "**Code Cell 1: Hello World**"
   ]
  },
  {
   "cell_type": "code",
   "execution_count": 1,
   "metadata": {
    "azdata_cell_guid": "ec8a956f-3fd2-4473-8d0b-7828f8c3f84c",
    "language": "sql"
   },
   "outputs": [
    {
     "name": "stdout",
     "output_type": "stream",
     "text": [
      "Assalam Alaykum\n"
     ]
    }
   ],
   "source": [
    "print (\"Assalam Alaykum\")"
   ]
  },
  {
   "cell_type": "code",
   "execution_count": 2,
   "metadata": {
    "azdata_cell_guid": "9916df87-8ca8-43e4-af78-dec3d4ed20bb",
    "language": "sql"
   },
   "outputs": [
    {
     "name": "stdout",
     "output_type": "stream",
     "text": [
      "Hello from Python in Azure Data Studio!\n"
     ]
    }
   ],
   "source": [
    "print(\"Hello from Python in Azure Data Studio!\")"
   ]
  },
  {
   "cell_type": "code",
   "execution_count": 3,
   "metadata": {
    "azdata_cell_guid": "3a4b5287-5431-47b8-bd2f-4d8a3bdc91f4",
    "language": "sql"
   },
   "outputs": [
    {
     "data": {
      "text/plain": [
       "'Hello my name is moin '"
      ]
     },
     "execution_count": 3,
     "metadata": {},
     "output_type": "execute_result"
    }
   ],
   "source": [
    "(\"Hello my name is moin \")"
   ]
  },
  {
   "cell_type": "markdown",
   "metadata": {
    "azdata_cell_guid": "6ee0dac3-4496-44f4-99eb-c802021da5c2"
   },
   "source": [
    "***🔹 Code Cell 2: Multiple Lines***"
   ]
  },
  {
   "cell_type": "code",
   "execution_count": 4,
   "metadata": {
    "azdata_cell_guid": "724722a0-1da8-49c5-9e56-3e0dde93dc65",
    "language": "sql"
   },
   "outputs": [
    {
     "name": "stdout",
     "output_type": "stream",
     "text": [
      "Learning Python is easy.\n",
      "What is your name?\n"
     ]
    }
   ],
   "source": [
    "print(\"Learning Python is easy.\")\n",
    "print(\"What is your name?\")"
   ]
  },
  {
   "cell_type": "markdown",
   "metadata": {
    "azdata_cell_guid": "9cb552d6-de10-436f-a712-7ff38952661f"
   },
   "source": [
    "### 🔹 Code Cell 3: Escape Characters"
   ]
  },
  {
   "cell_type": "code",
   "execution_count": 5,
   "metadata": {
    "azdata_cell_guid": "256a65da-d568-4170-933a-d9b9646a0cd2",
    "language": "sql"
   },
   "outputs": [
    {
     "name": "stdout",
     "output_type": "stream",
     "text": [
      "Yeh \"Python\" ka lesson hai.\n",
      "Line1\n",
      "Line2\n"
     ]
    }
   ],
   "source": [
    "print(\"Yeh \\\"Python\\\" ka lesson hai.\")\n",
    "print(\"Line1\\nLine2\")"
   ]
  },
  {
   "cell_type": "code",
   "execution_count": 6,
   "metadata": {
    "azdata_cell_guid": "41f3c8a2-456f-4240-a780-29bf81b4fc35",
    "language": "sql"
   },
   "outputs": [
    {
     "name": "stdout",
     "output_type": "stream",
     "text": [
      "She said: \"Hello!\"\n",
      "It's a beautiful day!\n",
      "Line1\n",
      "Line2\n"
     ]
    }
   ],
   "source": [
    "print(\"She said: \\\"Hello!\\\"\")\n",
    "print('It\\'s a beautiful day!')\n",
    "print(\"Line1\\nLine2\")       # \\n = new line"
   ]
  },
  {
   "cell_type": "code",
   "execution_count": 7,
   "metadata": {
    "azdata_cell_guid": "1806a84a-22d6-4854-aeee-086c53258100",
    "language": "sql"
   },
   "outputs": [
    {
     "name": "stdout",
     "output_type": "stream",
     "text": [
      "Hello Friend: \"We Love Python\"\n"
     ]
    }
   ],
   "source": [
    "print (\"Hello Friend: \\\"We Love Python\\\"\")\n"
   ]
  },
  {
   "cell_type": "code",
   "execution_count": 8,
   "metadata": {
    "azdata_cell_guid": "900747cb-0c66-421c-aa78-b6d0a0dd013d",
    "language": "sql"
   },
   "outputs": [
    {
     "name": "stdout",
     "output_type": "stream",
     "text": [
      "My Name is Syed \n",
      " I am learning python \n"
     ]
    }
   ],
   "source": [
    "print(\"My Name is Syed \\n I am learning python \")"
   ]
  },
  {
   "cell_type": "markdown",
   "metadata": {
    "azdata_cell_guid": "db31e134-8566-4fb1-9f30-6080ae540328"
   },
   "source": [
    "# Lesson 2: Variables & Data Types in Python"
   ]
  },
  {
   "cell_type": "markdown",
   "metadata": {
    "azdata_cell_guid": "e89e2572-8a0a-45a9-857d-d77ab872eecc"
   },
   "source": [
    "### 🔹 1. What is a Variable? "
   ]
  },
  {
   "cell_type": "markdown",
   "metadata": {
    "azdata_cell_guid": "d74c590f-04bf-4147-933b-d3bb03969250"
   },
   "source": [
    "####   Variables are containers for storing data values."
   ]
  },
  {
   "cell_type": "markdown",
   "metadata": {
    "azdata_cell_guid": "29874e1d-00c1-4a3b-8b29-2e375c8def04"
   },
   "source": [
    " 🔸 Code Cell 1: Basic Variable Examples"
   ]
  },
  {
   "cell_type": "code",
   "execution_count": 9,
   "metadata": {
    "azdata_cell_guid": "8e9ce038-b719-4a70-9085-0b1600df65f2",
    "language": "sql"
   },
   "outputs": [
    {
     "name": "stdout",
     "output_type": "stream",
     "text": [
      "123456\n"
     ]
    }
   ],
   "source": [
    "#  Variables in python\n",
    "a = 123456  # integer number \n",
    "print(a)"
   ]
  },
  {
   "cell_type": "code",
   "execution_count": 10,
   "metadata": {
    "azdata_cell_guid": "46c7e473-6552-4f44-81ae-cc612251b39f",
    "language": "sql"
   },
   "outputs": [
    {
     "name": "stdout",
     "output_type": "stream",
     "text": [
      "1.1357101\n"
     ]
    }
   ],
   "source": [
    "b = 1.1357101 # decimal number\n",
    "print(b)\n",
    "\n"
   ]
  },
  {
   "cell_type": "code",
   "execution_count": 11,
   "metadata": {
    "azdata_cell_guid": "b14d339e-1d40-47fd-881c-eb843a6d26d7",
    "language": "sql"
   },
   "outputs": [
    {
     "name": "stdout",
     "output_type": "stream",
     "text": [
      "My Name is Syed I am learning python \n"
     ]
    }
   ],
   "source": [
    "c = \"My Name is Syed \"\"I am learning python \"  # word/sentence- use quotes\n",
    "print(c) "
   ]
  },
  {
   "cell_type": "code",
   "execution_count": 12,
   "metadata": {
    "azdata_cell_guid": "685d074d-e084-45d5-ab6d-29247dbcd21b",
    "language": "sql"
   },
   "outputs": [
    {
     "name": "stdout",
     "output_type": "stream",
     "text": [
      "26\n"
     ]
    }
   ],
   "source": [
    "Rani = 26  # declare a varibale using varibale \n",
    "d = Rani\n",
    "print(d)"
   ]
  },
  {
   "cell_type": "code",
   "execution_count": 13,
   "metadata": {
    "azdata_cell_guid": "11fc4477-31e3-46a9-8823-a9d72c56e5ac",
    "language": "sql"
   },
   "outputs": [
    {
     "name": "stdout",
     "output_type": "stream",
     "text": [
      "61\n"
     ]
    }
   ],
   "source": [
    "x = 10     # adding a number to a variable \n",
    "print(x+51)"
   ]
  },
  {
   "cell_type": "code",
   "execution_count": 14,
   "metadata": {
    "azdata_cell_guid": "3d4f45f3-0abc-4ad5-9da1-26ba488f6b4e",
    "language": "sql"
   },
   "outputs": [
    {
     "name": "stdout",
     "output_type": "stream",
     "text": [
      "11 12 13\n",
      "11\n",
      "12\n",
      "13\n"
     ]
    }
   ],
   "source": [
    "a,b,c = 11,12,13  # assign multiple varibales\n",
    "print(a,b,c) \n",
    "print(a)\n",
    "print(b)\n",
    "print(c)"
   ]
  },
  {
   "cell_type": "code",
   "execution_count": 15,
   "metadata": {
    "azdata_cell_guid": "991a92dc-74d5-45f5-8869-d7f5bde085d4",
    "language": "sql"
   },
   "outputs": [
    {
     "name": "stdout",
     "output_type": "stream",
     "text": [
      "Rashika\n"
     ]
    }
   ],
   "source": [
    "# rules to declare a varibales \n",
    "# 1. varibale name must start with: letter or _ \n",
    "_my_name = \"Rashika\"\n",
    "print(_my_name)\n",
    "# _my_name = \"Rashika\"\n",
    "  "
   ]
  },
  {
   "cell_type": "code",
   "execution_count": 16,
   "metadata": {
    "azdata_cell_guid": "da1b8427-9554-4d45-9f55-78b3662edbd0",
    "language": "sql"
   },
   "outputs": [
    {
     "name": "stdout",
     "output_type": "stream",
     "text": [
      "My name is Syed \n",
      "I am from Hyderabad\n",
      "26\n",
      "1\n"
     ]
    }
   ],
   "source": [
    "# 2. Varibale name can contain: letter, numbers, underscore (_)\n",
    "my_name1 = \"My name is Syed \\n\"   \"I am from Hyderabad\"\n",
    "r1 = 26 \n",
    "_1 = 1\n",
    "print(my_name1)\n",
    "print(r1)\n",
    "print(_1)"
   ]
  },
  {
   "cell_type": "code",
   "execution_count": 1,
   "metadata": {
    "azdata_cell_guid": "6cb559cf-3cdc-481e-a64c-27a1bc12914d",
    "language": "sql"
   },
   "outputs": [
    {
     "name": "stdout",
     "output_type": "stream",
     "text": [
      "Monica \n"
     ]
    }
   ],
   "source": [
    "# 3. Variables are case sensitive \n",
    "myName = \"Monica \"\n",
    "print(myName) "
   ]
  },
  {
   "cell_type": "code",
   "execution_count": 2,
   "metadata": {
    "azdata_cell_guid": "fe567146-456c-48a4-987c-44d3a1a1c02a",
    "language": "sql"
   },
   "outputs": [],
   "source": [
    "name = 'Ahemad'\n",
    "age = 35\n",
    "height = 5.8\n",
    "is_student = True \n"
   ]
  },
  {
   "cell_type": "markdown",
   "metadata": {
    "azdata_cell_guid": "d78efdd4-25c7-4dae-965c-4afab41fef51"
   },
   "source": [
    "🔸 Code Cell 2: Print various variables"
   ]
  },
  {
   "cell_type": "code",
   "execution_count": 20,
   "metadata": {
    "azdata_cell_guid": "78c1e0e3-37a8-404c-8739-9f3a5fb7159c",
    "language": "sql"
   },
   "outputs": [
    {
     "name": "stdout",
     "output_type": "stream",
     "text": [
      "Name: Ahemad\n",
      "Age: 35\n",
      "Height 5.8\n",
      "Student True\n"
     ]
    }
   ],
   "source": [
    "print('Name:',name)\n",
    "print('Age:', age)\n",
    "print('Height',height)\n",
    "print('Student', is_student)"
   ]
  },
  {
   "cell_type": "markdown",
   "metadata": {
    "azdata_cell_guid": "179f29ec-ed39-406e-809a-4c7f63e119c8"
   },
   "source": [
    "### Python Variables and Data Types — With Examples"
   ]
  },
  {
   "cell_type": "code",
   "execution_count": 21,
   "metadata": {
    "azdata_cell_guid": "0640d203-e8e2-4629-8c7f-5f55d033251e",
    "language": "sql"
   },
   "outputs": [
    {
     "name": "stdout",
     "output_type": "stream",
     "text": [
      "Name: Syed Moin\n",
      "Age: 45\n",
      "Salary: 120000.5\n",
      "Married: True\n"
     ]
    }
   ],
   "source": [
    "my_name = \"Syed Moin\"\n",
    "my_age = 45\n",
    "my_salary = 120000.50\n",
    "is_married = True\n",
    "\n",
    "print(\"Name:\", my_name)\n",
    "print(\"Age:\", my_age)\n",
    "print(\"Salary:\", my_salary)\n",
    "print(\"Married:\", is_married)\n"
   ]
  },
  {
   "cell_type": "markdown",
   "metadata": {
    "azdata_cell_guid": "4817bf0c-c36c-4850-bee0-fcf6a2431a88"
   },
   "source": [
    "🔸 Code Cell 3: Perform a type check"
   ]
  },
  {
   "cell_type": "code",
   "execution_count": 22,
   "metadata": {
    "azdata_cell_guid": "dcb1e1de-8f2d-4aeb-98df-9c283093d382",
    "language": "sql"
   },
   "outputs": [
    {
     "name": "stdout",
     "output_type": "stream",
     "text": [
      "<class 'str'>\n",
      "<class 'int'>\n",
      "<class 'float'>\n",
      "<class 'bool'>\n"
     ]
    }
   ],
   "source": [
    "print(type(my_name))\n",
    "print(type(my_age))\n",
    "print(type(my_salary))\n",
    "print(type(is_married))"
   ]
  },
  {
   "cell_type": "code",
   "execution_count": 23,
   "metadata": {
    "azdata_cell_guid": "28e0600c-d181-45fd-95ae-f9b5d622ec32",
    "language": "sql"
   },
   "outputs": [
    {
     "name": "stdout",
     "output_type": "stream",
     "text": [
      "EmployeeName Zain Arshad\n",
      "EmployeeID 205\n",
      "MonthlySalary 35000\n",
      "Permanent False\n"
     ]
    }
   ],
   "source": [
    "employee_name = 'Zain Arshad'\n",
    "employee_id = 205\n",
    "monthly_salary =35000\n",
    "is_permanent = False\n",
    "\n",
    "print ('EmployeeName' , employee_name)\n",
    "print('EmployeeID' ,employee_id)\n",
    "print('MonthlySalary',monthly_salary)\n",
    "print('Permanent' , is_permanent)"
   ]
  },
  {
   "cell_type": "code",
   "execution_count": 24,
   "metadata": {
    "azdata_cell_guid": "af4f9b8a-530b-41e8-86e1-55b92ad5a0c7",
    "language": "sql"
   },
   "outputs": [
    {
     "name": "stdout",
     "output_type": "stream",
     "text": [
      "<class 'str'>\n",
      "<class 'int'>\n",
      "<class 'int'>\n",
      "<class 'bool'>\n"
     ]
    }
   ],
   "source": [
    "print (type(employee_name) )\n",
    "print(type(employee_id))\n",
    "print(type(monthly_salary))\n",
    "print(type(is_permanent) ) "
   ]
  },
  {
   "cell_type": "markdown",
   "metadata": {
    "azdata_cell_guid": "8ffa84a5-ca4b-446c-b7de-51aff6467414",
    "language": "sql"
   },
   "source": [
    "# 🧑‍🏫 Lesson 3: User Input & Type Conversion in Python"
   ]
  },
  {
   "cell_type": "markdown",
   "metadata": {},
   "source": [
    "### Lesson 3: User Input and Type Conversion"
   ]
  },
  {
   "cell_type": "markdown",
   "metadata": {},
   "source": [
    "🔹 1. input() Function – Getting data from the user"
   ]
  },
  {
   "cell_type": "code",
   "execution_count": 26,
   "metadata": {},
   "outputs": [
    {
     "name": "stdin",
     "output_type": "stream",
     "text": [
      "Enter your name:   Syed Moinuddin\n"
     ]
    },
    {
     "name": "stdout",
     "output_type": "stream",
     "text": [
      "welcome  Syed Moinuddin\n"
     ]
    }
   ],
   "source": [
    "name = input (\"Enter your name:  \")\n",
    "print (\"welcome \", name )"
   ]
  },
  {
   "cell_type": "markdown",
   "metadata": {},
   "source": [
    "🔹 2. Verify using the type() function."
   ]
  },
  {
   "cell_type": "code",
   "execution_count": 28,
   "metadata": {},
   "outputs": [
    {
     "name": "stdin",
     "output_type": "stream",
     "text": [
      "Enter your name :  2\n"
     ]
    },
    {
     "name": "stdout",
     "output_type": "stream",
     "text": [
      "<class 'str'>\n"
     ]
    }
   ],
   "source": [
    "age = input('Enter your age : ')\n",
    "print (type(age))"
   ]
  },
  {
   "cell_type": "markdown",
   "metadata": {},
   "source": [
    "#### 🔹 3. Type Conversion: int(), float(), bool()"
   ]
  },
  {
   "cell_type": "markdown",
   "metadata": {},
   "source": [
    "#### Convert string to number."
   ]
  },
  {
   "cell_type": "code",
   "execution_count": 34,
   "metadata": {},
   "outputs": [
    {
     "name": "stdin",
     "output_type": "stream",
     "text": [
      "Enter your age :  35\n",
      "Enter your salar 35000.200\n"
     ]
    }
   ],
   "source": [
    "age = int(input('Enter your age : '))\n",
    "salary = float(input(\"Enter your salar\"))"
   ]
  },
  {
   "cell_type": "markdown",
   "metadata": {},
   "source": [
    "🔸 Code Cell Example:"
   ]
  },
  {
   "cell_type": "code",
   "execution_count": 42,
   "metadata": {},
   "outputs": [
    {
     "name": "stdin",
     "output_type": "stream",
     "text": [
      "Enter your name : Syed\n",
      "Enter you age.  45\n",
      " Enter your salary : 450111\n",
      "Are you married? (True/False):  True\n"
     ]
    },
    {
     "name": "stdout",
     "output_type": "stream",
     "text": [
      "--------------------Profile Summary ---------------\n",
      "Name : Syed\n",
      "Age:  45\n",
      "Salary  450111.0\n",
      "Married True\n"
     ]
    }
   ],
   "source": [
    "name = input(\"Enter your name :\")\n",
    "age = int(input(\"Enter you age. \"))\n",
    "salary = float(input(\" Enter your salary :\"))\n",
    "is_married = input(\"Are you married? (True/False): \")\n",
    "\n",
    "print(\"--------------------Profile Summary ---------------\")\n",
    "print (\"Name :\",name ) \n",
    "print(\"Age: \",age)\n",
    "print(\"Salary \" ,salary) \n",
    "print(\"Married :\", is_married)             \n",
    "             "
   ]
  },
  {
   "cell_type": "code",
   "execution_count": 43,
   "metadata": {},
   "outputs": [
    {
     "name": "stdout",
     "output_type": "stream",
     "text": [
      "<class 'str'>\n"
     ]
    }
   ],
   "source": [
    "int_num = 101           # int type\n",
    "str_num = str(int_num)  # convert to str type\n",
    "print(type(str_num)) \n"
   ]
  },
  {
   "cell_type": "code",
   "execution_count": 44,
   "metadata": {},
   "outputs": [
    {
     "name": "stdout",
     "output_type": "stream",
     "text": [
      "False\n",
      "<class 'bool'>\n"
     ]
    }
   ],
   "source": [
    "a0 = bool(0)  # boolean type - False\n",
    "print(a0)\n",
    "print(type(a0))\n"
   ]
  },
  {
   "cell_type": "markdown",
   "metadata": {},
   "source": [
    "# 🧑‍🏫 Lesson 4: Arithmetic & Comparison Operators in Pytho"
   ]
  },
  {
   "cell_type": "markdown",
   "metadata": {},
   "source": [
    "## Lesson 4: Arithmetic and Comparison Operators"
   ]
  },
  {
   "cell_type": "markdown",
   "metadata": {},
   "source": [
    "### 🔹 1. Arithmetic Operators (For Mathematics)"
   ]
  },
  {
   "cell_type": "markdown",
   "metadata": {},
   "source": [
    "| Operator | Name                | Example  | Output |\n",
    "| -------- | ------------------- | -------- | ------ |\n",
    "| `+`      | Addition            | `5 + 2`  | `7`    |\n",
    "| `-`      | Subtraction         | `5 - 2`  | `3`    |\n",
    "| `*`      | Multiplication      | `5 * 2`  | `10`   |\n",
    "| `/`      | Division            | `5 / 2`  | `2.5`  |\n",
    "| `//`     | Floor Division      | `5 // 2` | `2`    |\n",
    "| `%`      | Modulus (remainder) | `5 % 2`  | `1`    |\n",
    "| `**`     | Exponent (power)    | `2 ** 3` | `8`    |\n"
   ]
  },
  {
   "cell_type": "markdown",
   "metadata": {},
   "source": [
    "### 🔸 Code Cell 1: Arithmetic Examples"
   ]
  },
  {
   "cell_type": "code",
   "execution_count": 45,
   "metadata": {},
   "outputs": [
    {
     "name": "stdout",
     "output_type": "stream",
     "text": [
      "Addition: 13\n",
      "Subtraction: 7\n",
      "Multiplication: 30\n",
      "Division: 3.3333333333333335\n",
      "Floor Division: 3\n",
      "Modulus: 1\n",
      "Exponent: 1000\n"
     ]
    }
   ],
   "source": [
    "a = 10\n",
    "b = 3\n",
    "\n",
    "print(\"Addition:\", a + b)\n",
    "print(\"Subtraction:\", a - b)\n",
    "print(\"Multiplication:\", a * b)\n",
    "print(\"Division:\", a / b)\n",
    "print(\"Floor Division:\", a // b)\n",
    "print(\"Modulus:\", a % b)\n",
    "print(\"Exponent:\", a ** b)"
   ]
  },
  {
   "cell_type": "code",
   "execution_count": 19,
   "metadata": {},
   "outputs": [
    {
     "data": {
      "text/plain": [
       "3375"
      ]
     },
     "execution_count": 19,
     "metadata": {},
     "output_type": "execute_result"
    }
   ],
   "source": [
    "a** 3"
   ]
  },
  {
   "cell_type": "markdown",
   "metadata": {},
   "source": [
    "### 🔹 2. Comparison Operators "
   ]
  },
  {
   "cell_type": "markdown",
   "metadata": {},
   "source": [
    "| Operator | Meaning          | Example  | Output  |\n",
    "| -------- | ---------------- | -------- | ------- |\n",
    "| `==`     | Equal to         | `5 == 5` | `True`  |\n",
    "| `!=`     | Not equal to     | `5 != 3` | `True`  |\n",
    "| `>`      | Greater than     | `5 > 3`  | `True`  |\n",
    "| `<`      | Less than        | `5 < 3`  | `False` |\n",
    "| `>=`     | Greater or Equal | `5 >= 5` | `True`  |\n",
    "| `<=`     | Less or Equal    | `5 <= 6` | `True`  |\n"
   ]
  },
  {
   "cell_type": "markdown",
   "metadata": {},
   "source": [
    "### 🔸 Code Cell 2: Comparison Examples"
   ]
  },
  {
   "cell_type": "code",
   "execution_count": 12,
   "metadata": {},
   "outputs": [
    {
     "name": "stdout",
     "output_type": "stream",
     "text": [
      "Equal? False\n",
      "Not equal? True\n",
      "Greater than? True\n",
      "Less than? False\n",
      "Greater or equal? True\n",
      "Less or equal? False\n"
     ]
    }
   ],
   "source": [
    "x = 15\n",
    "y = 10\n",
    "\n",
    "print(\"Equal?\", x == y)\n",
    "print(\"Not equal?\", x != y)\n",
    "print(\"Greater than?\", x > y)\n",
    "print(\"Less than?\", x < y)\n",
    "print(\"Greater or equal?\", x >= y)\n",
    "print(\"Less or equal?\", x <= y)"
   ]
  },
  {
   "cell_type": "code",
   "execution_count": 14,
   "metadata": {},
   "outputs": [
    {
     "data": {
      "text/plain": [
       "False"
      ]
     },
     "execution_count": 14,
     "metadata": {},
     "output_type": "execute_result"
    }
   ],
   "source": [
    "x==y"
   ]
  },
  {
   "cell_type": "code",
   "execution_count": 15,
   "metadata": {},
   "outputs": [
    {
     "data": {
      "text/plain": [
       "True"
      ]
     },
     "execution_count": 15,
     "metadata": {},
     "output_type": "execute_result"
    }
   ],
   "source": [
    "x!=y"
   ]
  },
  {
   "cell_type": "code",
   "execution_count": 16,
   "metadata": {},
   "outputs": [
    {
     "data": {
      "text/plain": [
       "True"
      ]
     },
     "execution_count": 16,
     "metadata": {},
     "output_type": "execute_result"
    }
   ],
   "source": [
    "x>y"
   ]
  },
  {
   "cell_type": "code",
   "execution_count": 17,
   "metadata": {},
   "outputs": [
    {
     "data": {
      "text/plain": [
       "False"
      ]
     },
     "execution_count": 17,
     "metadata": {},
     "output_type": "execute_result"
    }
   ],
   "source": [
    "a = 15\n",
    "b = 20\n",
    "a ==b"
   ]
  },
  {
   "cell_type": "code",
   "execution_count": null,
   "metadata": {},
   "outputs": [],
   "source": []
  },
  {
   "cell_type": "markdown",
   "metadata": {},
   "source": [
    "## 🧑‍🏫 Lesson 5: Conditional Statements (if, elif, else)"
   ]
  },
  {
   "cell_type": "markdown",
   "metadata": {},
   "source": [
    "#### 🔹 1. What are Conditionals?"
   ]
  },
  {
   "cell_type": "markdown",
   "metadata": {},
   "source": [
    "#### Conditionals allow Python to make decisions based on conditions."
   ]
  },
  {
   "cell_type": "markdown",
   "metadata": {},
   "source": [
    "🔹 2. Syntax of if, elif, else\n",
    " if condition:\n",
    "    # Code if condition is True\n",
    "elif another_condition:\n",
    "    # Code if this new condition is True\n",
    "else:\n",
    "    # Code if all above conditions are False"
   ]
  },
  {
   "cell_type": "markdown",
   "metadata": {},
   "source": [
    "🔸 Code Cell 1: Simple if"
   ]
  },
  {
   "cell_type": "code",
   "execution_count": 48,
   "metadata": {},
   "outputs": [
    {
     "name": "stdout",
     "output_type": "stream",
     "text": [
      "You are eligible to vote.\n"
     ]
    }
   ],
   "source": [
    "age = 20\n",
    "\n",
    "if age >= 18:\n",
    "    print(\"You are eligible to vote.\")"
   ]
  },
  {
   "cell_type": "markdown",
   "metadata": {},
   "source": [
    "#### 🔸 Code Cell 2: if + else "
   ]
  },
  {
   "cell_type": "code",
   "execution_count": 49,
   "metadata": {},
   "outputs": [
    {
     "name": "stdin",
     "output_type": "stream",
     "text": [
      "Enter your age:  22\n"
     ]
    },
    {
     "name": "stdout",
     "output_type": "stream",
     "text": [
      "Eligible for driving license.\n"
     ]
    }
   ],
   "source": [
    "age = int(input(\"Enter your age: \"))\n",
    "\n",
    "if age >= 18:\n",
    "    print(\"Eligible for driving license.\")\n",
    "else:\n",
    "    print(\"Not eligible yet.\")"
   ]
  },
  {
   "cell_type": "markdown",
   "metadata": {},
   "source": [
    "#### 🔸 Code Cell 3: if + elif + else"
   ]
  },
  {
   "cell_type": "code",
   "execution_count": 50,
   "metadata": {},
   "outputs": [
    {
     "name": "stdin",
     "output_type": "stream",
     "text": [
      "Enter your marks:  95\n"
     ]
    },
    {
     "name": "stdout",
     "output_type": "stream",
     "text": [
      "Grade: A\n"
     ]
    }
   ],
   "source": [
    "marks = int(input(\"Enter your marks: \"))\n",
    "\n",
    "if marks >= 90:\n",
    "    print(\"Grade: A\")\n",
    "elif marks >= 75:\n",
    "    print(\"Grade: B\")\n",
    "elif marks >= 60:\n",
    "    print(\"Grade: C\")\n",
    "else:\n",
    "    print(\"Grade: D or Fail\")"
   ]
  },
  {
   "cell_type": "markdown",
   "metadata": {},
   "source": [
    "## If-Elif-Else Statement Example"
   ]
  },
  {
   "cell_type": "markdown",
   "metadata": {},
   "source": [
    "#### Check age (whether above 18 or not)"
   ]
  },
  {
   "cell_type": "code",
   "execution_count": 10,
   "metadata": {},
   "outputs": [
    {
     "name": "stdin",
     "output_type": "stream",
     "text": [
      "Enter Your Age  15\n"
     ]
    },
    {
     "name": "stdout",
     "output_type": "stream",
     "text": [
      "You can't enter\n"
     ]
    }
   ],
   "source": [
    "age = 20\n",
    "age =(int(input(\"Enter Your Age \")))\n",
    "if age >= 20:\n",
    "    print (\"You are enter to club\")\n",
    "elif age >= 45 and age <= 50:\n",
    "    print(\"Your are member of club\")\n",
    "else:\n",
    "    print(\"You can't enter\")"
   ]
  },
  {
   "cell_type": "markdown",
   "metadata": {},
   "source": [
    "### Please indicate the grade based on the marks."
   ]
  },
  {
   "cell_type": "code",
   "execution_count": null,
   "metadata": {},
   "outputs": [],
   "source": []
  },
  {
   "cell_type": "code",
   "execution_count": 51,
   "metadata": {},
   "outputs": [
    {
     "name": "stdin",
     "output_type": "stream",
     "text": [
      "Enter your username:  admin\n"
     ]
    },
    {
     "name": "stdout",
     "output_type": "stream",
     "text": [
      "Welcome, Admin!\n"
     ]
    }
   ],
   "source": [
    "username = input(\"Enter your username: \")\n",
    "\n",
    "if username == \"admin\":\n",
    "    print(\"Welcome, Admin!\")\n",
    "else:\n",
    "    print(\"Access Denied.\")"
   ]
  },
  {
   "cell_type": "code",
   "execution_count": null,
   "metadata": {},
   "outputs": [],
   "source": []
  }
 ],
 "metadata": {
  "kernelspec": {
   "display_name": "Python 3 (ipykernel)",
   "language": "python",
   "name": "python3"
  },
  "language_info": {
   "codemirror_mode": {
    "name": "ipython",
    "version": 3
   },
   "file_extension": ".py",
   "mimetype": "text/x-python",
   "name": "python",
   "nbconvert_exporter": "python",
   "pygments_lexer": "ipython3",
   "version": "3.11.8"
  }
 },
 "nbformat": 4,
 "nbformat_minor": 4
}
