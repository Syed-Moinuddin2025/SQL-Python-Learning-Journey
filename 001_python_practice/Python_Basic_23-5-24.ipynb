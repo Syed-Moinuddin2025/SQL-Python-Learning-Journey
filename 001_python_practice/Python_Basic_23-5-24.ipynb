{
 "cells": [
  {
   "cell_type": "markdown",
   "id": "45e27812-14e6-4434-a370-1afcd6fb34c5",
   "metadata": {},
   "source": [
    " # 🔰 Lesson 1: Python Print Statement aur Comments"
   ]
  },
  {
   "cell_type": "markdown",
   "id": "7e603621",
   "metadata": {},
   "source": [
    "# The print function is used to display text or other outputs to the console."
   ]
  },
  {
   "cell_type": "code",
   "execution_count": 2,
   "id": "81ed45d4-331b-4d36-8c99-11cb292e67c6",
   "metadata": {},
   "outputs": [
    {
     "name": "stdout",
     "output_type": "stream",
     "text": [
      "بسم الله الرحمن الرحيم\n"
     ]
    }
   ],
   "source": [
    "print(\"بسم الله الرحمن الرحيم\")"
   ]
  },
  {
   "cell_type": "code",
   "execution_count": 3,
   "id": "53bb0481",
   "metadata": {},
   "outputs": [
    {
     "name": "stdout",
     "output_type": "stream",
     "text": [
      "Hello world\n"
     ]
    }
   ],
   "source": [
    "print(\"Hello world\")"
   ]
  },
  {
   "cell_type": "code",
   "execution_count": 2,
   "id": "79eb44af",
   "metadata": {},
   "outputs": [
    {
     "name": "stdout",
     "output_type": "stream",
     "text": [
      "Welcome to learn python\n"
     ]
    }
   ],
   "source": [
    "print(\"Welcome to learn python\")"
   ]
  },
  {
   "cell_type": "markdown",
   "id": "2b1681a6",
   "metadata": {},
   "source": [
    "# Variables are Temporary storage"
   ]
  },
  {
   "cell_type": "raw",
   "id": "5f49f4d6",
   "metadata": {},
   "source": [
    "#  Variables: Variables store information to be referenced and manipulated in a program."
   ]
  },
  {
   "cell_type": "code",
   "execution_count": 91,
   "id": "ef13fd21",
   "metadata": {},
   "outputs": [
    {
     "data": {
      "text/plain": [
       "'Sam'"
      ]
     },
     "execution_count": 91,
     "metadata": {},
     "output_type": "execute_result"
    }
   ],
   "source": [
    "st = 'Sam'    # st is variables \n",
    "st"
   ]
  },
  {
   "cell_type": "code",
   "execution_count": 92,
   "id": "d75220cc",
   "metadata": {},
   "outputs": [
    {
     "data": {
      "text/plain": [
       "'Jhon'"
      ]
     },
     "execution_count": 92,
     "metadata": {},
     "output_type": "execute_result"
    }
   ],
   "source": [
    "st = 'Jhon'\n",
    "st"
   ]
  },
  {
   "cell_type": "code",
   "execution_count": 93,
   "id": "ca85ccd9",
   "metadata": {},
   "outputs": [
    {
     "data": {
      "text/plain": [
       "'Moto '"
      ]
     },
     "execution_count": 93,
     "metadata": {},
     "output_type": "execute_result"
    }
   ],
   "source": [
    "st= 'Moto '\n",
    "st"
   ]
  },
  {
   "cell_type": "code",
   "execution_count": 94,
   "id": "33fdc866",
   "metadata": {},
   "outputs": [
    {
     "data": {
      "text/plain": [
       "' \\nData Types: Common data types include \\nintegers (int), \\nfloating-point numbers (float), \\nstrings (str),\\nand booleans (bool).\\n'"
      ]
     },
     "execution_count": 94,
     "metadata": {},
     "output_type": "execute_result"
    }
   ],
   "source": [
    "''' \n",
    "Data Types: Common data types include \n",
    "integers (int), \n",
    "floating-point numbers (float), \n",
    "strings (str),\n",
    "and booleans (bool).\n",
    "'''"
   ]
  },
  {
   "cell_type": "markdown",
   "id": "edfeec3f",
   "metadata": {},
   "source": [
    "# Strings are used to represent text data and are one of the fundamental data types in Python. They are immutable, \n",
    "# meaning once a string is created, its contents cannot be changed."
   ]
  },
  {
   "cell_type": "code",
   "execution_count": 3,
   "id": "f144d587",
   "metadata": {},
   "outputs": [
    {
     "data": {
      "text/plain": [
       "'My name is Syed Moin'"
      ]
     },
     "execution_count": 3,
     "metadata": {},
     "output_type": "execute_result"
    }
   ],
   "source": [
    "st1 =\"My name is Syed Moin\"\n",
    "st1"
   ]
  },
  {
   "cell_type": "code",
   "execution_count": 96,
   "id": "85cbe358",
   "metadata": {},
   "outputs": [
    {
     "data": {
      "text/plain": [
       "'me is'"
      ]
     },
     "execution_count": 96,
     "metadata": {},
     "output_type": "execute_result"
    }
   ],
   "source": [
    "st1[5:10]"
   ]
  },
  {
   "cell_type": "code",
   "execution_count": 97,
   "id": "aa46b1f5",
   "metadata": {},
   "outputs": [
    {
     "data": {
      "text/plain": [
       "15"
      ]
     },
     "execution_count": 97,
     "metadata": {},
     "output_type": "execute_result"
    }
   ],
   "source": [
    "len(st1)"
   ]
  },
  {
   "cell_type": "markdown",
   "id": "8a5512dc",
   "metadata": {},
   "source": [
    "st1[0]= 'Your'"
   ]
  },
  {
   "cell_type": "code",
   "execution_count": 4,
   "id": "82cfe299",
   "metadata": {},
   "outputs": [
    {
     "data": {
      "text/plain": [
       "'Your name is Syed Moin'"
      ]
     },
     "execution_count": 4,
     "metadata": {},
     "output_type": "execute_result"
    }
   ],
   "source": [
    "st1.replace('My','Your')\n",
    " "
   ]
  },
  {
   "cell_type": "code",
   "execution_count": 5,
   "id": "cdf4ce57",
   "metadata": {},
   "outputs": [
    {
     "data": {
      "text/plain": [
       "'My name is Syed Moin'"
      ]
     },
     "execution_count": 5,
     "metadata": {},
     "output_type": "execute_result"
    }
   ],
   "source": [
    "st1"
   ]
  },
  {
   "cell_type": "code",
   "execution_count": 7,
   "id": "f3cf49df",
   "metadata": {},
   "outputs": [
    {
     "data": {
      "text/plain": [
       "int"
      ]
     },
     "execution_count": 7,
     "metadata": {},
     "output_type": "execute_result"
    }
   ],
   "source": [
    "a1 = 100 + 21\n",
    "a1\n",
    "type(a1)"
   ]
  },
  {
   "cell_type": "code",
   "execution_count": 101,
   "id": "10ec057a",
   "metadata": {},
   "outputs": [
    {
     "data": {
      "text/plain": [
       "float"
      ]
     },
     "execution_count": 101,
     "metadata": {},
     "output_type": "execute_result"
    }
   ],
   "source": [
    "a1 = 315.25\n",
    "a1\n",
    "type(a1)"
   ]
  },
  {
   "cell_type": "code",
   "execution_count": 102,
   "id": "df80aa03",
   "metadata": {},
   "outputs": [
    {
     "data": {
      "text/plain": [
       "str"
      ]
     },
     "execution_count": 102,
     "metadata": {},
     "output_type": "execute_result"
    }
   ],
   "source": [
    "a1 = ' Name'\n",
    "a1\n",
    "type(a1)"
   ]
  },
  {
   "cell_type": "code",
   "execution_count": 103,
   "id": "97d16ed6",
   "metadata": {},
   "outputs": [
    {
     "data": {
      "text/plain": [
       "bool"
      ]
     },
     "execution_count": 103,
     "metadata": {},
     "output_type": "execute_result"
    }
   ],
   "source": [
    "a1 = True        #is_student = True\n",
    "a1\n",
    "type(a1)"
   ]
  },
  {
   "cell_type": "code",
   "execution_count": 104,
   "id": "d542273f",
   "metadata": {},
   "outputs": [
    {
     "data": {
      "text/plain": [
       "'\\nThese are basic arithmetic operations.\\nAddition (+), \\nsubtraction (-),\\nmultiplication (*), \\ndivision (/), \\nand modulus (%) \\nwhich gives the remainder of a division.\\n'"
      ]
     },
     "execution_count": 104,
     "metadata": {},
     "output_type": "execute_result"
    }
   ],
   "source": [
    "\"\"\"\n",
    "These are basic arithmetic operations.\n",
    "Addition (+), \n",
    "subtraction (-),\n",
    "multiplication (*), \n",
    "division (/), \n",
    "and modulus (%) \n",
    "which gives the remainder of a division.\n",
    "\"\"\""
   ]
  },
  {
   "cell_type": "markdown",
   "id": "7940a492",
   "metadata": {},
   "source": [
    "# Arithmetic operations"
   ]
  },
  {
   "cell_type": "code",
   "execution_count": 105,
   "id": "16063cb5",
   "metadata": {},
   "outputs": [],
   "source": [
    "a =30\n",
    "b = 20\n",
    "c=55"
   ]
  },
  {
   "cell_type": "code",
   "execution_count": 106,
   "id": "8f6c31de",
   "metadata": {},
   "outputs": [
    {
     "data": {
      "text/plain": [
       "(30, 20, 55)"
      ]
     },
     "execution_count": 106,
     "metadata": {},
     "output_type": "execute_result"
    }
   ],
   "source": [
    "a,b,c"
   ]
  },
  {
   "cell_type": "code",
   "execution_count": 107,
   "id": "f56fe5f7",
   "metadata": {},
   "outputs": [
    {
     "data": {
      "text/plain": [
       "105"
      ]
     },
     "execution_count": 107,
     "metadata": {},
     "output_type": "execute_result"
    }
   ],
   "source": [
    "a + b + c"
   ]
  },
  {
   "cell_type": "code",
   "execution_count": 108,
   "id": "c04e354a",
   "metadata": {},
   "outputs": [
    {
     "data": {
      "text/plain": [
       "10"
      ]
     },
     "execution_count": 108,
     "metadata": {},
     "output_type": "execute_result"
    }
   ],
   "source": [
    "a - b "
   ]
  },
  {
   "cell_type": "code",
   "execution_count": 109,
   "id": "85c9ecfa",
   "metadata": {},
   "outputs": [
    {
     "data": {
      "text/plain": [
       "1650"
      ]
     },
     "execution_count": 109,
     "metadata": {},
     "output_type": "execute_result"
    }
   ],
   "source": [
    "a*c"
   ]
  },
  {
   "cell_type": "code",
   "execution_count": 110,
   "id": "ecfcb9a1",
   "metadata": {},
   "outputs": [
    {
     "data": {
      "text/plain": [
       "600"
      ]
     },
     "execution_count": 110,
     "metadata": {},
     "output_type": "execute_result"
    }
   ],
   "source": [
    "a * b "
   ]
  },
  {
   "cell_type": "code",
   "execution_count": 111,
   "id": "6c5b4435",
   "metadata": {},
   "outputs": [
    {
     "data": {
      "text/plain": [
       "1.5"
      ]
     },
     "execution_count": 111,
     "metadata": {},
     "output_type": "execute_result"
    }
   ],
   "source": [
    "a/b"
   ]
  },
  {
   "cell_type": "code",
   "execution_count": 112,
   "id": "42d7f141",
   "metadata": {},
   "outputs": [
    {
     "data": {
      "text/plain": [
       "10"
      ]
     },
     "execution_count": 112,
     "metadata": {},
     "output_type": "execute_result"
    }
   ],
   "source": [
    "a % b"
   ]
  },
  {
   "cell_type": "code",
   "execution_count": 113,
   "id": "b54113c7",
   "metadata": {},
   "outputs": [
    {
     "data": {
      "text/plain": [
       "'\\nprint(a == b) # Equals\\nprint(a != b) # Not equals\\nprint(a > b)  # Greater than\\nprint(a < b)  # Less than\\nprint(a >= b) # Greater than or equal to\\nprint(a <= b) # Less than or equal to\\n\\n'"
      ]
     },
     "execution_count": 113,
     "metadata": {},
     "output_type": "execute_result"
    }
   ],
   "source": [
    "# Comparison Operators\n",
    "'''\n",
    "print(a == b) # Equals\n",
    "print(a != b) # Not equals\n",
    "print(a > b)  # Greater than\n",
    "print(a < b)  # Less than\n",
    "print(a >= b) # Greater than or equal to\n",
    "print(a <= b) # Less than or equal to\n",
    "\n",
    "'''"
   ]
  },
  {
   "cell_type": "code",
   "execution_count": 114,
   "id": "93b8f56e",
   "metadata": {},
   "outputs": [],
   "source": [
    "a=50\n",
    "b = 100"
   ]
  },
  {
   "cell_type": "code",
   "execution_count": 115,
   "id": "8f4d68be",
   "metadata": {},
   "outputs": [
    {
     "data": {
      "text/plain": [
       "False"
      ]
     },
     "execution_count": 115,
     "metadata": {},
     "output_type": "execute_result"
    }
   ],
   "source": [
    "a>b"
   ]
  },
  {
   "cell_type": "code",
   "execution_count": 116,
   "id": "b8afa8b1",
   "metadata": {},
   "outputs": [
    {
     "data": {
      "text/plain": [
       "True"
      ]
     },
     "execution_count": 116,
     "metadata": {},
     "output_type": "execute_result"
    }
   ],
   "source": [
    "a<b"
   ]
  },
  {
   "cell_type": "code",
   "execution_count": 117,
   "id": "1a6a82a2",
   "metadata": {},
   "outputs": [
    {
     "data": {
      "text/plain": [
       "False"
      ]
     },
     "execution_count": 117,
     "metadata": {},
     "output_type": "execute_result"
    }
   ],
   "source": [
    "a==b"
   ]
  },
  {
   "cell_type": "code",
   "execution_count": 118,
   "id": "d827e896",
   "metadata": {},
   "outputs": [
    {
     "data": {
      "text/plain": [
       "True"
      ]
     },
     "execution_count": 118,
     "metadata": {},
     "output_type": "execute_result"
    }
   ],
   "source": [
    "a!=b"
   ]
  },
  {
   "cell_type": "code",
   "execution_count": 119,
   "id": "889a0436",
   "metadata": {},
   "outputs": [
    {
     "name": "stdout",
     "output_type": "stream",
     "text": [
      "True\n",
      "False\n",
      "False\n",
      "True\n",
      "False\n"
     ]
    }
   ],
   "source": [
    "# Both conditions are true\n",
    "a = True\n",
    "b = True\n",
    "print(a and b)  # Output: True\n",
    "\n",
    "# One condition is false\n",
    "a = True\n",
    "b = False\n",
    "print(a and b)  # Output: False\n",
    "\n",
    "# Both conditions are false\n",
    "a = False\n",
    "b = False\n",
    "print(a and b)  # Output: False\n",
    "\n",
    "# Using with comparison operators\n",
    "x = 10\n",
    "y = 20\n",
    "print(x > 5 and y < 30)  # Output: True (since 10 > 5 and 20 < 30 are both true)\n",
    "print(x < 5 and y < 30)  # Output: False (since 10 < 5 is false, even though 20 < 30 is true)\n"
   ]
  },
  {
   "cell_type": "code",
   "execution_count": 120,
   "id": "87c84312-da7c-449e-be1c-a6809c445433",
   "metadata": {},
   "outputs": [
    {
     "name": "stdout",
     "output_type": "stream",
     "text": [
      "True\n"
     ]
    }
   ],
   "source": [
    "x = 10\n",
    "y = 20\n",
    "print(x > 5 and y < 30)  # Output: True (since 10 > 5 and 20 < 30 are both true)"
   ]
  },
  {
   "cell_type": "code",
   "execution_count": 121,
   "id": "131b3c91",
   "metadata": {},
   "outputs": [],
   "source": [
    "x = 10\n",
    "y = 20"
   ]
  },
  {
   "cell_type": "code",
   "execution_count": 122,
   "id": "0999555c",
   "metadata": {},
   "outputs": [
    {
     "name": "stdout",
     "output_type": "stream",
     "text": [
      "False\n"
     ]
    }
   ],
   "source": [
    "print(x < 5 and y < 30)  # Output: False (since 10 < 5 is false, even though 20 < 30 is true)"
   ]
  },
  {
   "cell_type": "code",
   "execution_count": 123,
   "id": "6c471157",
   "metadata": {},
   "outputs": [
    {
     "name": "stdout",
     "output_type": "stream",
     "text": [
      "True\n"
     ]
    }
   ],
   "source": [
    "print(x > 5 and y < 30) "
   ]
  },
  {
   "cell_type": "markdown",
   "id": "7d48e34a",
   "metadata": {},
   "source": [
    "# Python Assignment Operators:   Assignment operators are used to assign values to variables:"
   ]
  },
  {
   "cell_type": "code",
   "execution_count": 124,
   "id": "299cfd05",
   "metadata": {},
   "outputs": [
    {
     "name": "stdout",
     "output_type": "stream",
     "text": [
      "8\n"
     ]
    }
   ],
   "source": [
    "''' += (Addition Assignment)Adds the value on the right \n",
    "to the variable on the left and assigns the result to the variable.   \n",
    "'''\n",
    "x = 5 \n",
    "x += 3  # Equivalent to x = x + 3  \n",
    "print(x)"
   ]
  },
  {
   "cell_type": "code",
   "execution_count": 125,
   "id": "8df91ee2",
   "metadata": {},
   "outputs": [
    {
     "data": {
      "text/plain": [
       "20"
      ]
     },
     "execution_count": 125,
     "metadata": {},
     "output_type": "execute_result"
    }
   ],
   "source": [
    "f = 15\n",
    "f += 5\n",
    "f"
   ]
  },
  {
   "cell_type": "code",
   "execution_count": 126,
   "id": "0d570fff",
   "metadata": {},
   "outputs": [
    {
     "name": "stdout",
     "output_type": "stream",
     "text": [
      "3\n"
     ]
    }
   ],
   "source": [
    "x = 5  #-= (Subtraction Assignment)\n",
    "x -= 2  # Equivalent to x = x - 2\n",
    "print(x)"
   ]
  },
  {
   "cell_type": "code",
   "execution_count": 127,
   "id": "2bc74d42",
   "metadata": {},
   "outputs": [
    {
     "name": "stdout",
     "output_type": "stream",
     "text": [
      "20\n"
     ]
    }
   ],
   "source": [
    "x = 5  # *= (Multiplication Assignment)\n",
    "x *= 4  # Equivalent to x = x * 4\n",
    "print(x)"
   ]
  },
  {
   "cell_type": "code",
   "execution_count": 128,
   "id": "8e9d1705",
   "metadata": {},
   "outputs": [
    {
     "name": "stdout",
     "output_type": "stream",
     "text": [
      "5.0\n"
     ]
    }
   ],
   "source": [
    "x = 20 # /= (Division Assignment)\n",
    "x /= 4  # Equivalent to x = x / 4\n",
    "print(x)"
   ]
  },
  {
   "cell_type": "code",
   "execution_count": 129,
   "id": "22aa8717",
   "metadata": {},
   "outputs": [
    {
     "name": "stdout",
     "output_type": "stream",
     "text": [
      "2\n"
     ]
    }
   ],
   "source": [
    "x = 20 # %= (Modulus Assignment)\n",
    "x %= 3  # Equivalent to x = x % 3\n",
    "print(x)"
   ]
  },
  {
   "cell_type": "markdown",
   "id": "f79f2787",
   "metadata": {},
   "source": [
    "# Logical Operators"
   ]
  },
  {
   "cell_type": "code",
   "execution_count": 130,
   "id": "1a74d5fa",
   "metadata": {},
   "outputs": [],
   "source": [
    "a =True\n",
    "b = False"
   ]
  },
  {
   "cell_type": "code",
   "execution_count": 131,
   "id": "d092cc66",
   "metadata": {},
   "outputs": [
    {
     "data": {
      "text/plain": [
       "False"
      ]
     },
     "execution_count": 131,
     "metadata": {},
     "output_type": "execute_result"
    }
   ],
   "source": [
    "a & b"
   ]
  },
  {
   "cell_type": "code",
   "execution_count": 132,
   "id": "da5892df",
   "metadata": {},
   "outputs": [
    {
     "data": {
      "text/plain": [
       "True"
      ]
     },
     "execution_count": 132,
     "metadata": {},
     "output_type": "execute_result"
    }
   ],
   "source": [
    "a&a"
   ]
  },
  {
   "cell_type": "code",
   "execution_count": 133,
   "id": "36f2f0d4",
   "metadata": {},
   "outputs": [
    {
     "data": {
      "text/plain": [
       "False"
      ]
     },
     "execution_count": 133,
     "metadata": {},
     "output_type": "execute_result"
    }
   ],
   "source": [
    "b&b"
   ]
  },
  {
   "cell_type": "code",
   "execution_count": 134,
   "id": "131ca091",
   "metadata": {},
   "outputs": [
    {
     "data": {
      "text/plain": [
       "True"
      ]
     },
     "execution_count": 134,
     "metadata": {},
     "output_type": "execute_result"
    }
   ],
   "source": [
    "a | b"
   ]
  },
  {
   "cell_type": "code",
   "execution_count": 135,
   "id": "fd18023d",
   "metadata": {},
   "outputs": [
    {
     "data": {
      "text/plain": [
       "True"
      ]
     },
     "execution_count": 135,
     "metadata": {},
     "output_type": "execute_result"
    }
   ],
   "source": [
    "a|a"
   ]
  },
  {
   "cell_type": "code",
   "execution_count": 136,
   "id": "65ac1995",
   "metadata": {},
   "outputs": [
    {
     "data": {
      "text/plain": [
       "True"
      ]
     },
     "execution_count": 136,
     "metadata": {},
     "output_type": "execute_result"
    }
   ],
   "source": [
    "b|a"
   ]
  },
  {
   "cell_type": "code",
   "execution_count": 137,
   "id": "0dbf3942",
   "metadata": {},
   "outputs": [
    {
     "data": {
      "text/plain": [
       "False"
      ]
     },
     "execution_count": 137,
     "metadata": {},
     "output_type": "execute_result"
    }
   ],
   "source": [
    "b and a"
   ]
  },
  {
   "cell_type": "code",
   "execution_count": 138,
   "id": "de6a424c",
   "metadata": {},
   "outputs": [
    {
     "data": {
      "text/plain": [
       "False"
      ]
     },
     "execution_count": 138,
     "metadata": {},
     "output_type": "execute_result"
    }
   ],
   "source": [
    "a and b"
   ]
  },
  {
   "cell_type": "code",
   "execution_count": 139,
   "id": "19b130ea",
   "metadata": {},
   "outputs": [
    {
     "data": {
      "text/plain": [
       "False"
      ]
     },
     "execution_count": 139,
     "metadata": {},
     "output_type": "execute_result"
    }
   ],
   "source": [
    "b|b"
   ]
  },
  {
   "cell_type": "code",
   "execution_count": 140,
   "id": "80d7a900",
   "metadata": {},
   "outputs": [
    {
     "data": {
      "text/plain": [
       "False"
      ]
     },
     "execution_count": 140,
     "metadata": {},
     "output_type": "execute_result"
    }
   ],
   "source": [
    "b or b"
   ]
  },
  {
   "cell_type": "code",
   "execution_count": 141,
   "id": "6298d364",
   "metadata": {},
   "outputs": [
    {
     "data": {
      "text/plain": [
       "True"
      ]
     },
     "execution_count": 141,
     "metadata": {},
     "output_type": "execute_result"
    }
   ],
   "source": [
    "b  or a"
   ]
  },
  {
   "cell_type": "code",
   "execution_count": 142,
   "id": "d13f44a0",
   "metadata": {},
   "outputs": [
    {
     "data": {
      "text/plain": [
       "True"
      ]
     },
     "execution_count": 142,
     "metadata": {},
     "output_type": "execute_result"
    }
   ],
   "source": [
    "a or b"
   ]
  },
  {
   "cell_type": "markdown",
   "id": "4c8a8226",
   "metadata": {},
   "source": [
    "# Python Tokens\n",
    "# Python tokens are the smallest units in a program.\n"
   ]
  },
  {
   "cell_type": "code",
   "execution_count": 1,
   "id": "a73dc149",
   "metadata": {},
   "outputs": [],
   "source": [
    "# Keywords = Examples:\n",
    "# if, else, while, for, break, continue, class, def, etc.\n"
   ]
  },
  {
   "cell_type": "code",
   "execution_count": null,
   "id": "4fa00c67",
   "metadata": {},
   "outputs": [],
   "source": [
    "# Identifiers = Examples:\n",
    "# variable_name, functionName, ClassName, _private_variable"
   ]
  },
  {
   "cell_type": "code",
   "execution_count": null,
   "id": "6fe654c8",
   "metadata": {},
   "outputs": [
    {
     "name": "stdout",
     "output_type": "stream",
     "text": [
      "10\n",
      "This is a function\n"
     ]
    }
   ],
   "source": [
    "# Python program to demonstrate identifiers\n",
    "\n",
    "var1 = 10\n",
    "print(var1)   # Output: 10\n",
    "\n",
    "def functionName( ) :\n",
    "    print(\"This is a function\")\n",
    "\n",
    "functionName( )  # Call the function\n"
   ]
  },
  {
   "cell_type": "code",
   "execution_count": null,
   "id": "a5b94358",
   "metadata": {},
   "outputs": [],
   "source": [
    "'''\n",
    "Literals  \n",
    "Literals are the data items that have a fixed value. Python supports several types of literals:\n",
    "\n",
    "String Literals: \"Hello\", 'World'\n",
    "Numeric Literals: 123, 3.14\n",
    "Boolean Literals: True, False\n",
    "'''"
   ]
  },
  {
   "cell_type": "markdown",
   "id": "94a77633",
   "metadata": {},
   "source": [
    "# Intro to Python Strings"
   ]
  },
  {
   "cell_type": "code",
   "execution_count": 80,
   "id": "886868d3",
   "metadata": {},
   "outputs": [],
   "source": [
    "str1 = 'this my first string'"
   ]
  },
  {
   "cell_type": "code",
   "execution_count": 81,
   "id": "14a894cd",
   "metadata": {},
   "outputs": [
    {
     "data": {
      "text/plain": [
       "'this my first string'"
      ]
     },
     "execution_count": 81,
     "metadata": {},
     "output_type": "execute_result"
    }
   ],
   "source": [
    "str1"
   ]
  },
  {
   "cell_type": "code",
   "execution_count": null,
   "id": "a654a848",
   "metadata": {},
   "outputs": [],
   "source": [
    "str2 = \"this is my secound string\""
   ]
  },
  {
   "cell_type": "code",
   "execution_count": null,
   "id": "e633eec9",
   "metadata": {},
   "outputs": [
    {
     "data": {
      "text/plain": [
       "'this is my secound string'"
      ]
     },
     "execution_count": 83,
     "metadata": {},
     "output_type": "execute_result"
    }
   ],
   "source": [
    "str2"
   ]
  },
  {
   "cell_type": "code",
   "execution_count": 82,
   "id": "75a7b644",
   "metadata": {},
   "outputs": [],
   "source": [
    "str3 = ''' This is \n",
    "multiline\n",
    "string\n",
    "'''"
   ]
  },
  {
   "cell_type": "code",
   "execution_count": 83,
   "id": "4b100894",
   "metadata": {},
   "outputs": [
    {
     "data": {
      "text/plain": [
       "' This is \\nmultiline\\nstring\\n'"
      ]
     },
     "execution_count": 83,
     "metadata": {},
     "output_type": "execute_result"
    }
   ],
   "source": [
    "str3"
   ]
  },
  {
   "cell_type": "code",
   "execution_count": 84,
   "id": "d967fac6",
   "metadata": {},
   "outputs": [],
   "source": [
    "my_string = 'my name is joli '"
   ]
  },
  {
   "cell_type": "code",
   "execution_count": 85,
   "id": "8cc5fe83",
   "metadata": {},
   "outputs": [
    {
     "data": {
      "text/plain": [
       "'my name is joli '"
      ]
     },
     "execution_count": 85,
     "metadata": {},
     "output_type": "execute_result"
    }
   ],
   "source": [
    "my_string"
   ]
  },
  {
   "cell_type": "code",
   "execution_count": null,
   "id": "3e850588",
   "metadata": {},
   "outputs": [
    {
     "data": {
      "text/plain": [
       "'n'"
      ]
     },
     "execution_count": 90,
     "metadata": {},
     "output_type": "execute_result"
    }
   ],
   "source": [
    "my_string[3]"
   ]
  },
  {
   "cell_type": "code",
   "execution_count": null,
   "id": "28b9ad7b",
   "metadata": {},
   "outputs": [
    {
     "data": {
      "text/plain": [
       "'j'"
      ]
     },
     "execution_count": 91,
     "metadata": {},
     "output_type": "execute_result"
    }
   ],
   "source": [
    "my_string[11]"
   ]
  },
  {
   "cell_type": "code",
   "execution_count": null,
   "id": "704c0e85",
   "metadata": {},
   "outputs": [
    {
     "data": {
      "text/plain": [
       "'is joli'"
      ]
     },
     "execution_count": 92,
     "metadata": {},
     "output_type": "execute_result"
    }
   ],
   "source": [
    "my_string[8:15 ]"
   ]
  },
  {
   "cell_type": "code",
   "execution_count": 86,
   "id": "fd065b39-2fe1-4eba-9964-c7e9ac666f72",
   "metadata": {},
   "outputs": [],
   "source": [
    "my_string  = \"My nane is khan\""
   ]
  },
  {
   "cell_type": "code",
   "execution_count": null,
   "id": "91673a77-bcb9-4b9b-a2ca-74ba588f31d6",
   "metadata": {},
   "outputs": [
    {
     "data": {
      "text/plain": [
       "'My nane is khan'"
      ]
     },
     "execution_count": 94,
     "metadata": {},
     "output_type": "execute_result"
    }
   ],
   "source": [
    "my_string"
   ]
  },
  {
   "cell_type": "code",
   "execution_count": 87,
   "id": "d73f9b2a-101e-49d9-8a7c-0647a39c5bd6",
   "metadata": {},
   "outputs": [
    {
     "data": {
      "text/plain": [
       "15"
      ]
     },
     "execution_count": 87,
     "metadata": {},
     "output_type": "execute_result"
    }
   ],
   "source": [
    "len(my_string)"
   ]
  },
  {
   "cell_type": "code",
   "execution_count": 88,
   "id": "c7c7c5b5-66d3-45de-99f5-e3f157ab9557",
   "metadata": {},
   "outputs": [
    {
     "data": {
      "text/plain": [
       "'my nane is khan'"
      ]
     },
     "execution_count": 88,
     "metadata": {},
     "output_type": "execute_result"
    }
   ],
   "source": [
    "my_string.lower()"
   ]
  },
  {
   "cell_type": "code",
   "execution_count": null,
   "id": "37ec98f8-e2ad-40d8-bf65-c1bc8fb22bbe",
   "metadata": {},
   "outputs": [
    {
     "data": {
      "text/plain": [
       "'MY NANE IS KHAN'"
      ]
     },
     "execution_count": 97,
     "metadata": {},
     "output_type": "execute_result"
    }
   ],
   "source": [
    "my_string.upper()"
   ]
  },
  {
   "cell_type": "code",
   "execution_count": null,
   "id": "15d4d426-314c-4a57-b9ee-5f0e9ac04bb6",
   "metadata": {},
   "outputs": [
    {
     "data": {
      "text/plain": [
       "'My nane is khan'"
      ]
     },
     "execution_count": 98,
     "metadata": {},
     "output_type": "execute_result"
    }
   ],
   "source": [
    "my_string.capitalize()"
   ]
  },
  {
   "cell_type": "code",
   "execution_count": 144,
   "id": "80a8702e-fbcd-433d-a8a8-099fa9a64952",
   "metadata": {},
   "outputs": [
    {
     "data": {
      "text/plain": [
       "'My nane is Moin'"
      ]
     },
     "execution_count": 144,
     "metadata": {},
     "output_type": "execute_result"
    }
   ],
   "source": [
    "my_string.replace(\"khan\",\"Moin\")"
   ]
  },
  {
   "cell_type": "code",
   "execution_count": null,
   "id": "648d00cd-c98f-4ca7-96f3-5a101537b4ae",
   "metadata": {},
   "outputs": [
    {
     "data": {
      "text/plain": [
       "'my nane is khan'"
      ]
     },
     "execution_count": 100,
     "metadata": {},
     "output_type": "execute_result"
    }
   ],
   "source": [
    "my_string.lower()"
   ]
  },
  {
   "cell_type": "code",
   "execution_count": 145,
   "id": "d1438836-c1c7-477a-a18e-65473f2ab630",
   "metadata": {},
   "outputs": [
    {
     "data": {
      "text/plain": [
       "True"
      ]
     },
     "execution_count": 145,
     "metadata": {},
     "output_type": "execute_result"
    }
   ],
   "source": [
    "my_string.isprintable()"
   ]
  },
  {
   "cell_type": "code",
   "execution_count": 147,
   "id": "cbeae649-db89-40cd-af11-b5a6e0976373",
   "metadata": {},
   "outputs": [
    {
     "data": {
      "text/plain": [
       "1"
      ]
     },
     "execution_count": 147,
     "metadata": {},
     "output_type": "execute_result"
    }
   ],
   "source": [
    "my_string.count('M')"
   ]
  },
  {
   "cell_type": "code",
   "execution_count": null,
   "id": "bdae77b3-9790-4896-9bcf-21b8d121a6d9",
   "metadata": {},
   "outputs": [
    {
     "data": {
      "text/plain": [
       "'Your nane is khan'"
      ]
     },
     "execution_count": 103,
     "metadata": {},
     "output_type": "execute_result"
    }
   ],
   "source": [
    "my_string.replace('My', 'Your')"
   ]
  },
  {
   "cell_type": "code",
   "execution_count": null,
   "id": "95f992c8-b18f-445a-a847-ff3aec32fe1a",
   "metadata": {},
   "outputs": [],
   "source": [
    "st= 'My name is Moin'"
   ]
  },
  {
   "cell_type": "code",
   "execution_count": null,
   "id": "16920dbf-c923-41f5-a6ad-0c33cbece710",
   "metadata": {},
   "outputs": [
    {
     "data": {
      "text/plain": [
       "'My name is Moin'"
      ]
     },
     "execution_count": 105,
     "metadata": {},
     "output_type": "execute_result"
    }
   ],
   "source": [
    "st"
   ]
  },
  {
   "cell_type": "code",
   "execution_count": null,
   "id": "39ffa27e-fa6a-4910-9210-aafef2986b97",
   "metadata": {},
   "outputs": [
    {
     "data": {
      "text/plain": [
       "8"
      ]
     },
     "execution_count": 106,
     "metadata": {},
     "output_type": "execute_result"
    }
   ],
   "source": [
    "st.find(\"i\")"
   ]
  },
  {
   "cell_type": "code",
   "execution_count": 148,
   "id": "14bef75a-aadc-4ad2-abf7-9c3b395e6daa",
   "metadata": {},
   "outputs": [
    {
     "data": {
      "text/plain": [
       "-1"
      ]
     },
     "execution_count": 148,
     "metadata": {},
     "output_type": "execute_result"
    }
   ],
   "source": [
    "st.find('m')"
   ]
  },
  {
   "cell_type": "code",
   "execution_count": 149,
   "id": "7b4da591-6977-4d0d-b40b-8fab30235c80",
   "metadata": {},
   "outputs": [
    {
     "data": {
      "text/plain": [
       "1"
      ]
     },
     "execution_count": 149,
     "metadata": {},
     "output_type": "execute_result"
    }
   ],
   "source": [
    "st.count('M')"
   ]
  },
  {
   "cell_type": "code",
   "execution_count": null,
   "id": "2f15f967-f3fc-45ad-97d1-b4563b530ee2",
   "metadata": {},
   "outputs": [
    {
     "data": {
      "text/plain": [
       "'MY NAME IS MOIN'"
      ]
     },
     "execution_count": 109,
     "metadata": {},
     "output_type": "execute_result"
    }
   ],
   "source": [
    "st.upper()"
   ]
  },
  {
   "cell_type": "code",
   "execution_count": null,
   "id": "ec22fd19-f629-487a-a1c7-d4d95acd7e67",
   "metadata": {},
   "outputs": [
    {
     "data": {
      "text/plain": [
       "'My name are Moin'"
      ]
     },
     "execution_count": 110,
     "metadata": {},
     "output_type": "execute_result"
    }
   ],
   "source": [
    "st.replace('is','are')"
   ]
  },
  {
   "cell_type": "code",
   "execution_count": null,
   "id": "161d2a75-e68e-489f-840d-e3fdbb1e3d4e",
   "metadata": {},
   "outputs": [
    {
     "data": {
      "text/plain": [
       "'My name is Moin'"
      ]
     },
     "execution_count": 111,
     "metadata": {},
     "output_type": "execute_result"
    }
   ],
   "source": [
    "st"
   ]
  },
  {
   "cell_type": "code",
   "execution_count": 9,
   "id": "a642f2fd-b3bd-4d30-ba61-8fcfab26ce9b",
   "metadata": {},
   "outputs": [],
   "source": [
    "st1= 'this is my book '"
   ]
  },
  {
   "cell_type": "code",
   "execution_count": null,
   "id": "e54596d8-79e3-4f6d-bb29-5ba816ab59e9",
   "metadata": {},
   "outputs": [
    {
     "data": {
      "text/plain": [
       "'this is my book '"
      ]
     },
     "execution_count": 113,
     "metadata": {},
     "output_type": "execute_result"
    }
   ],
   "source": [
    "st1"
   ]
  },
  {
   "cell_type": "code",
   "execution_count": null,
   "id": "23b74048-1415-43fe-be33-8dc66338e1ef",
   "metadata": {},
   "outputs": [
    {
     "data": {
      "text/plain": [
       "'t'"
      ]
     },
     "execution_count": 114,
     "metadata": {},
     "output_type": "execute_result"
    }
   ],
   "source": [
    "st1[0] "
   ]
  },
  {
   "cell_type": "code",
   "execution_count": null,
   "id": "ad70618f",
   "metadata": {},
   "outputs": [
    {
     "data": {
      "text/plain": [
       "'s'"
      ]
     },
     "execution_count": 115,
     "metadata": {},
     "output_type": "execute_result"
    }
   ],
   "source": [
    "st1[6]  "
   ]
  },
  {
   "cell_type": "code",
   "execution_count": null,
   "id": "ad6ad4f1-a45f-4bbb-be26-b58eaa2c7f37",
   "metadata": {},
   "outputs": [
    {
     "ename": "TypeError",
     "evalue": "'str' object does not support item assignment",
     "output_type": "error",
     "traceback": [
      "\u001b[1;31m---------------------------------------------------------------------------\u001b[0m",
      "\u001b[1;31mTypeError\u001b[0m                                 Traceback (most recent call last)",
      "Cell \u001b[1;32mIn[116], line 1\u001b[0m\n\u001b[1;32m----> 1\u001b[0m st1[\u001b[38;5;241m0\u001b[39m ]\u001b[38;5;241m=\u001b[39m \u001b[38;5;124m'\u001b[39m\u001b[38;5;124mT\u001b[39m\u001b[38;5;124m'\u001b[39m\n",
      "\u001b[1;31mTypeError\u001b[0m: 'str' object does not support item assignment"
     ]
    }
   ],
   "source": [
    "st1[0 ]= 'T'"
   ]
  },
  {
   "cell_type": "code",
   "execution_count": null,
   "id": "1f7b1ebf",
   "metadata": {},
   "outputs": [
    {
     "data": {
      "text/plain": [
       "'i'"
      ]
     },
     "execution_count": 117,
     "metadata": {},
     "output_type": "execute_result"
    }
   ],
   "source": [
    "st1[2]"
   ]
  },
  {
   "cell_type": "code",
   "execution_count": 11,
   "id": "bd749232",
   "metadata": {},
   "outputs": [
    {
     "data": {
      "text/plain": [
       "2"
      ]
     },
     "execution_count": 11,
     "metadata": {},
     "output_type": "execute_result"
    }
   ],
   "source": [
    "st1.find('i')"
   ]
  },
  {
   "cell_type": "code",
   "execution_count": 151,
   "id": "c2d1307d-a96f-4946-aaa9-d6d7b11f20b2",
   "metadata": {},
   "outputs": [],
   "source": [
    "fruit = ' I Like apples, mangos,grapes, bananas'"
   ]
  },
  {
   "cell_type": "code",
   "execution_count": 165,
   "id": "3ba41366-2cbb-452e-8d72-129e2ff0c6f1",
   "metadata": {},
   "outputs": [
    {
     "data": {
      "text/plain": [
       "4"
      ]
     },
     "execution_count": 165,
     "metadata": {},
     "output_type": "execute_result"
    }
   ],
   "source": [
    "fruit.count('s')"
   ]
  },
  {
   "cell_type": "code",
   "execution_count": null,
   "id": "768f9fc9-20e0-42b8-98b8-426c478a1d97",
   "metadata": {},
   "outputs": [
    {
     "data": {
      "text/plain": [
       "[' I Like apple', ', mango', ', banana', '']"
      ]
     },
     "execution_count": 121,
     "metadata": {},
     "output_type": "execute_result"
    }
   ],
   "source": [
    "fruit.split('s')"
   ]
  },
  {
   "cell_type": "code",
   "execution_count": null,
   "id": "252f3907",
   "metadata": {},
   "outputs": [],
   "source": []
  },
  {
   "cell_type": "markdown",
   "id": "3cce6d57",
   "metadata": {},
   "source": [
    "# A tuple is an immutable, ordered collection of elements.Tuples can contain elements of different data types. You can create a tuple by putting elements inside parentheses (), separated by commas.                                        #Immutable: Once you create a tuple, you  can't change its elements.\n"
   ]
  },
  {
   "cell_type": "code",
   "execution_count": null,
   "id": "d3daeaa6-b72e-41cf-92a9-19a293bec4ab",
   "metadata": {},
   "outputs": [
    {
     "name": "stdout",
     "output_type": "stream",
     "text": [
      "(1, 2, 3, 4)\n"
     ]
    }
   ],
   "source": [
    "# Creating a tuple with multiple elements\n",
    "my_tuple = (1, 2, 3, 4)\n",
    "print(my_tuple)  # Output: (1, 2, 3, 4)\n"
   ]
  },
  {
   "cell_type": "code",
   "execution_count": null,
   "id": "6dbac1f6-73b2-48eb-acb3-f7037c500fb2",
   "metadata": {},
   "outputs": [
    {
     "data": {
      "text/plain": [
       "(4, 5, 6, 'Name', 100, 3, 14.15)"
      ]
     },
     "execution_count": 123,
     "metadata": {},
     "output_type": "execute_result"
    }
   ],
   "source": [
    "my_tuple = (4,5,6,'Name',100,3,14.15)\n",
    "my_tuple"
   ]
  },
  {
   "cell_type": "code",
   "execution_count": null,
   "id": "b50528d0",
   "metadata": {},
   "outputs": [],
   "source": [
    "my_tuple = (4,5,6,'Name',100,3,14.15,3+1j)"
   ]
  },
  {
   "cell_type": "code",
   "execution_count": null,
   "id": "c7ec23be",
   "metadata": {},
   "outputs": [
    {
     "data": {
      "text/plain": [
       "(4, 5, 6, 'Name', 100, 3, 14.15, (3+1j))"
      ]
     },
     "execution_count": 125,
     "metadata": {},
     "output_type": "execute_result"
    }
   ],
   "source": [
    "my_tuple"
   ]
  },
  {
   "cell_type": "code",
   "execution_count": null,
   "id": "7f28de33",
   "metadata": {},
   "outputs": [
    {
     "data": {
      "text/plain": [
       "tuple"
      ]
     },
     "execution_count": 126,
     "metadata": {},
     "output_type": "execute_result"
    }
   ],
   "source": [
    "type(my_tuple)"
   ]
  },
  {
   "cell_type": "code",
   "execution_count": null,
   "id": "c3f95aa3",
   "metadata": {},
   "outputs": [
    {
     "data": {
      "text/plain": [
       "'Name'"
      ]
     },
     "execution_count": 127,
     "metadata": {},
     "output_type": "execute_result"
    }
   ],
   "source": [
    "my_tuple[3]"
   ]
  },
  {
   "cell_type": "code",
   "execution_count": null,
   "id": "8de3a757",
   "metadata": {},
   "outputs": [
    {
     "data": {
      "text/plain": [
       "5"
      ]
     },
     "execution_count": 128,
     "metadata": {},
     "output_type": "execute_result"
    }
   ],
   "source": [
    "my_tuple[1]"
   ]
  },
  {
   "cell_type": "code",
   "execution_count": null,
   "id": "d9ea4106",
   "metadata": {},
   "outputs": [
    {
     "data": {
      "text/plain": [
       "(4, 5, 6, 'Name', 100)"
      ]
     },
     "execution_count": 129,
     "metadata": {},
     "output_type": "execute_result"
    }
   ],
   "source": [
    "my_tuple[0: 5 ]"
   ]
  },
  {
   "cell_type": "code",
   "execution_count": null,
   "id": "59cce9c2",
   "metadata": {},
   "outputs": [
    {
     "ename": "TypeError",
     "evalue": "'tuple' object does not support item assignment",
     "output_type": "error",
     "traceback": [
      "\u001b[1;31m---------------------------------------------------------------------------\u001b[0m",
      "\u001b[1;31mTypeError\u001b[0m                                 Traceback (most recent call last)",
      "Cell \u001b[1;32mIn[130], line 1\u001b[0m\n\u001b[1;32m----> 1\u001b[0m my_tuple[\u001b[38;5;241m2\u001b[39m] \u001b[38;5;241m=\u001b[39m \u001b[38;5;124m\"\u001b[39m\u001b[38;5;124mmyName\u001b[39m\u001b[38;5;124m\"\u001b[39m\n",
      "\u001b[1;31mTypeError\u001b[0m: 'tuple' object does not support item assignment"
     ]
    }
   ],
   "source": [
    "my_tuple[2] = \"myName\""
   ]
  },
  {
   "cell_type": "code",
   "execution_count": null,
   "id": "a8e01b0b-f386-438a-8feb-fe5d7829d2dc",
   "metadata": {},
   "outputs": [
    {
     "data": {
      "text/plain": [
       "('Name',)"
      ]
     },
     "execution_count": 131,
     "metadata": {},
     "output_type": "execute_result"
    }
   ],
   "source": [
    "my_tuple[3:4 ]"
   ]
  },
  {
   "cell_type": "code",
   "execution_count": null,
   "id": "f72582c9",
   "metadata": {},
   "outputs": [
    {
     "data": {
      "text/plain": [
       "8"
      ]
     },
     "execution_count": 132,
     "metadata": {},
     "output_type": "execute_result"
    }
   ],
   "source": [
    "len(my_tuple)"
   ]
  },
  {
   "cell_type": "code",
   "execution_count": null,
   "id": "e670b6b7-d2ec-4467-9010-3dc3ba953eb4",
   "metadata": {},
   "outputs": [
    {
     "data": {
      "text/plain": [
       "(4, 5, 6, 'Name', 100, 3, 14.15, (3+1j))"
      ]
     },
     "execution_count": 133,
     "metadata": {},
     "output_type": "execute_result"
    }
   ],
   "source": [
    "my_tuple"
   ]
  },
  {
   "cell_type": "code",
   "execution_count": null,
   "id": "4ff95cb7",
   "metadata": {},
   "outputs": [],
   "source": [
    "tup1=(1,2,2,4,3)\n",
    "tup2 =(5,6,7,8)"
   ]
  },
  {
   "cell_type": "code",
   "execution_count": null,
   "id": "13da2cb6",
   "metadata": {},
   "outputs": [
    {
     "data": {
      "text/plain": [
       "(1, 2, 2, 4, 3, 5, 6, 7, 8)"
      ]
     },
     "execution_count": 135,
     "metadata": {},
     "output_type": "execute_result"
    }
   ],
   "source": [
    "tup1+tup2"
   ]
  },
  {
   "cell_type": "code",
   "execution_count": null,
   "id": "272ee89d",
   "metadata": {},
   "outputs": [],
   "source": [
    "tup1 = (1,2,3,4,5)\n",
    "tup2 = (6,7,8,9,10)\n"
   ]
  },
  {
   "cell_type": "code",
   "execution_count": null,
   "id": "639a55a3",
   "metadata": {},
   "outputs": [
    {
     "data": {
      "text/plain": [
       "((1, 2, 3, 4, 5), (6, 7, 8, 9, 10))"
      ]
     },
     "execution_count": 137,
     "metadata": {},
     "output_type": "execute_result"
    }
   ],
   "source": [
    "tup1,tup2"
   ]
  },
  {
   "cell_type": "code",
   "execution_count": null,
   "id": "15fc37db",
   "metadata": {},
   "outputs": [
    {
     "data": {
      "text/plain": [
       "(6, 7, 8, 9, 10, 1, 2, 3, 4, 5)"
      ]
     },
     "execution_count": 138,
     "metadata": {},
     "output_type": "execute_result"
    }
   ],
   "source": [
    "tup2 + tup1"
   ]
  },
  {
   "cell_type": "code",
   "execution_count": null,
   "id": "c3340fa3",
   "metadata": {},
   "outputs": [],
   "source": [
    "tup1 = ('Python', 100)"
   ]
  },
  {
   "cell_type": "code",
   "execution_count": null,
   "id": "a0606f34",
   "metadata": {},
   "outputs": [
    {
     "data": {
      "text/plain": [
       "('Python', 100, 'Python', 100, 'Python', 100)"
      ]
     },
     "execution_count": 140,
     "metadata": {},
     "output_type": "execute_result"
    }
   ],
   "source": [
    "tup1 * 3"
   ]
  },
  {
   "cell_type": "code",
   "execution_count": null,
   "id": "24858378",
   "metadata": {},
   "outputs": [
    {
     "data": {
      "text/plain": [
       "('Python', 100, 'Python', 100, 'Python', 100, 6, 7, 8, 9, 10)"
      ]
     },
     "execution_count": 141,
     "metadata": {},
     "output_type": "execute_result"
    }
   ],
   "source": [
    "tup1 * 3 + tup2"
   ]
  },
  {
   "cell_type": "code",
   "execution_count": null,
   "id": "719ec35e",
   "metadata": {},
   "outputs": [],
   "source": [
    "tup1=(10,20,30,40,50,60,70,80,90,100)"
   ]
  },
  {
   "cell_type": "code",
   "execution_count": null,
   "id": "69f67a94",
   "metadata": {},
   "outputs": [
    {
     "data": {
      "text/plain": [
       "10"
      ]
     },
     "execution_count": 143,
     "metadata": {},
     "output_type": "execute_result"
    }
   ],
   "source": [
    "min(tup1)"
   ]
  },
  {
   "cell_type": "code",
   "execution_count": null,
   "id": "10e37953",
   "metadata": {},
   "outputs": [
    {
     "data": {
      "text/plain": [
       "100"
      ]
     },
     "execution_count": 144,
     "metadata": {},
     "output_type": "execute_result"
    }
   ],
   "source": [
    "max(tup1)"
   ]
  },
  {
   "cell_type": "code",
   "execution_count": null,
   "id": "598cb708",
   "metadata": {},
   "outputs": [],
   "source": [
    "tp1= (10,20,30,'Python',20,10,30,40,'Python',True,False,50,60,70,80)\n",
    "tp2 =(20,50,50,100,'Python',101.3,True)"
   ]
  },
  {
   "cell_type": "code",
   "execution_count": null,
   "id": "a576b25e",
   "metadata": {},
   "outputs": [
    {
     "data": {
      "text/plain": [
       "((10, 20, 30, 'Python', 20, 10, 30, 40, 'Python', True, False, 50, 60, 70, 80),\n",
       " (20, 50, 50, 100, 'Python', 101.3, True))"
      ]
     },
     "execution_count": 146,
     "metadata": {},
     "output_type": "execute_result"
    }
   ],
   "source": [
    "tp1, tp2 "
   ]
  },
  {
   "cell_type": "code",
   "execution_count": null,
   "id": "aef40c7a",
   "metadata": {},
   "outputs": [
    {
     "name": "stdout",
     "output_type": "stream",
     "text": [
      "(10, 20, 30, 'Python', 20, 10, 30, 40, 'Python', True, False, 50, 60, 70, 80, 80, 90, 100, 110)\n"
     ]
    }
   ],
   "source": [
    "tp3 = tp1 + (80,90,100,110)\n",
    "print(tp3)\n"
   ]
  },
  {
   "cell_type": "code",
   "execution_count": null,
   "id": "53a44d71",
   "metadata": {},
   "outputs": [],
   "source": [
    "tp3 = ((10, 20, 30, 'Python', 20, 10, 30, 40,40, 'Python', 'P',True, False, 50, 60, 70, 80, 80, 90, 100, 110))"
   ]
  },
  {
   "cell_type": "code",
   "execution_count": null,
   "id": "78209796",
   "metadata": {},
   "outputs": [
    {
     "data": {
      "text/plain": [
       "2"
      ]
     },
     "execution_count": 149,
     "metadata": {},
     "output_type": "execute_result"
    }
   ],
   "source": [
    "tp3.count('Python')"
   ]
  },
  {
   "cell_type": "code",
   "execution_count": null,
   "id": "baf4fed9",
   "metadata": {},
   "outputs": [
    {
     "name": "stdout",
     "output_type": "stream",
     "text": [
      "(20, 30, 40)\n"
     ]
    }
   ],
   "source": [
    "# Slicing a tuple \n",
    "# You can get a part of a tuple (a slice) using the slicing syntax start:stop.\n",
    "my_tuple = (10, 20, 30, 40, 50)\n",
    "print(my_tuple[1:4])  # Output: (20, 30, 40)\n"
   ]
  },
  {
   "cell_type": "code",
   "execution_count": null,
   "id": "2c8272ff",
   "metadata": {},
   "outputs": [],
   "source": [
    "tup3 = (1,2,3,4,5,6,7,'moin',3.14,10,20,200,50,'Python',True,55,60,1.125)"
   ]
  },
  {
   "cell_type": "code",
   "execution_count": null,
   "id": "10077943",
   "metadata": {},
   "outputs": [
    {
     "data": {
      "text/plain": [
       "True"
      ]
     },
     "execution_count": 60,
     "metadata": {},
     "output_type": "execute_result"
    }
   ],
   "source": [
    "5 in tup3  # We can check if an item is present in a tuple using the 'in' keyword."
   ]
  },
  {
   "cell_type": "code",
   "execution_count": null,
   "id": "10fe4871",
   "metadata": {},
   "outputs": [
    {
     "name": "stdout",
     "output_type": "stream",
     "text": [
      "10\n",
      "20\n",
      "30\n",
      "40\n",
      "50\n"
     ]
    }
   ],
   "source": [
    "my_tuple = (10, 20, 30, 40, 50)  # We can iterate through the elements of a tuple using a for loop.\n",
    "for item in my_tuple:\n",
    "    print(item)\n",
    "      \n",
    "   "
   ]
  },
  {
   "cell_type": "code",
   "execution_count": null,
   "id": "bf6d0371",
   "metadata": {},
   "outputs": [
    {
     "data": {
      "text/plain": [
       "(3, 4, 5, 6, 7, 'moin')"
      ]
     },
     "execution_count": 154,
     "metadata": {},
     "output_type": "execute_result"
    }
   ],
   "source": [
    "tup3[2:8]"
   ]
  },
  {
   "cell_type": "code",
   "execution_count": null,
   "id": "e77369d5",
   "metadata": {},
   "outputs": [
    {
     "data": {
      "text/plain": [
       "2"
      ]
     },
     "execution_count": 155,
     "metadata": {},
     "output_type": "execute_result"
    }
   ],
   "source": [
    "tup3.index(3)"
   ]
  },
  {
   "cell_type": "code",
   "execution_count": null,
   "id": "67fd144e",
   "metadata": {},
   "outputs": [],
   "source": [
    "tup1 = 1,2,3\n",
    "tup2= 4,'y',6\n"
   ]
  },
  {
   "cell_type": "code",
   "execution_count": null,
   "id": "87e422c6",
   "metadata": {},
   "outputs": [
    {
     "data": {
      "text/plain": [
       "((1, 2, 3), (4, 'y', 6))"
      ]
     },
     "execution_count": 55,
     "metadata": {},
     "output_type": "execute_result"
    }
   ],
   "source": [
    "tup1,tup2"
   ]
  },
  {
   "cell_type": "code",
   "execution_count": null,
   "id": "a29333a8",
   "metadata": {},
   "outputs": [
    {
     "data": {
      "text/plain": [
       "(1, 2, 3, 4, 'y', 6)"
      ]
     },
     "execution_count": 56,
     "metadata": {},
     "output_type": "execute_result"
    }
   ],
   "source": [
    "tup1   + tup2"
   ]
  },
  {
   "cell_type": "code",
   "execution_count": null,
   "id": "75dda097",
   "metadata": {},
   "outputs": [
    {
     "data": {
      "text/plain": [
       "1"
      ]
     },
     "execution_count": 57,
     "metadata": {},
     "output_type": "execute_result"
    }
   ],
   "source": [
    "tup1.count(3)"
   ]
  },
  {
   "cell_type": "code",
   "execution_count": null,
   "id": "d7890c6c",
   "metadata": {},
   "outputs": [
    {
     "name": "stdout",
     "output_type": "stream",
     "text": [
      "Index 0: apple\n",
      "Index 1: banana\n",
      "Index 2: cherry\n",
      "Index 3: grapes\n"
     ]
    }
   ],
   "source": [
    "my_tuple = ('apple', 'banana', 'cherry','grapes')\n",
    "for index, fruit in enumerate(my_tuple):\n",
    "    print(f\"Index {index}: {fruit}\")\n"
   ]
  },
  {
   "cell_type": "code",
   "execution_count": null,
   "id": "7f24f9ad",
   "metadata": {},
   "outputs": [
    {
     "name": "stdout",
     "output_type": "stream",
     "text": [
      "3\n",
      "3\n"
     ]
    }
   ],
   "source": [
    "# Tuple methods\n",
    "my_tuple = (5,10, 20, 30, 20, 20, 40, 50)\n",
    "print(my_tuple.count(20))  # Output: 3\n",
    "print(my_tuple.index(30))  # Output: 2\n",
    " "
   ]
  },
  {
   "cell_type": "code",
   "execution_count": null,
   "id": "97142ffd",
   "metadata": {},
   "outputs": [
    {
     "data": {
      "text/plain": [
       "5"
      ]
     },
     "execution_count": 12,
     "metadata": {},
     "output_type": "execute_result"
    }
   ],
   "source": [
    "min(my_tuple)"
   ]
  },
  {
   "cell_type": "code",
   "execution_count": null,
   "id": "27065726",
   "metadata": {},
   "outputs": [
    {
     "name": "stdout",
     "output_type": "stream",
     "text": [
      "Python\n",
      "Excel\n",
      "Software\n",
      "Learn\n",
      "Practice\n",
      "Hello World\n"
     ]
    }
   ],
   "source": [
    "tp5 = (\"Python\",'Excel',\"Software\",'Learn','Practice','Hello World')\n",
    "i = 0\n",
    "while i < len(tp5):\n",
    "    print(tp5[i])\n",
    "    i  += 1"
   ]
  },
  {
   "cell_type": "code",
   "execution_count": null,
   "id": "df5c1156",
   "metadata": {},
   "outputs": [
    {
     "name": "stdout",
     "output_type": "stream",
     "text": [
      "1\n",
      "2\n",
      "3\n"
     ]
    }
   ],
   "source": [
    "my_tuple = (1, 2, 3)\n",
    "i = 0\n",
    "while i < len(my_tuple):\n",
    "    print(my_tuple[i])\n",
    "    i += 1\n"
   ]
  },
  {
   "cell_type": "markdown",
   "id": "ec27a205",
   "metadata": {},
   "source": [
    "# #List in Python: A list in Python is created by placing comma-separated values (items) inside square brackets []."
   ]
  },
  {
   "cell_type": "code",
   "execution_count": 173,
   "id": "dc16dca1",
   "metadata": {},
   "outputs": [
    {
     "name": "stdout",
     "output_type": "stream",
     "text": [
      "211\n",
      "553\n",
      "101\n",
      "My\n",
      "syed\n",
      "3.15\n",
      "100\n",
      "True\n"
     ]
    }
   ],
   "source": [
    "l1 = [211,553,101,'My','syed',3.15,100,True]\n",
    "# print(l1[0])\n",
    "# print(l1[1])\n",
    "# print(l1[4])\n",
    "\n",
    "for i in l1:\n",
    "    print(i)\n"
   ]
  },
  {
   "cell_type": "code",
   "execution_count": 169,
   "id": "3ac015a2",
   "metadata": {},
   "outputs": [
    {
     "data": {
      "text/plain": [
       "8"
      ]
     },
     "execution_count": 169,
     "metadata": {},
     "output_type": "execute_result"
    }
   ],
   "source": [
    "len(l1)"
   ]
  },
  {
   "cell_type": "code",
   "execution_count": null,
   "id": "510925b6",
   "metadata": {},
   "outputs": [
    {
     "data": {
      "text/plain": [
       "list"
      ]
     },
     "execution_count": 16,
     "metadata": {},
     "output_type": "execute_result"
    }
   ],
   "source": [
    "type(l1)"
   ]
  },
  {
   "cell_type": "code",
   "execution_count": 12,
   "id": "c91413e1",
   "metadata": {},
   "outputs": [],
   "source": [
    "l1[3] = 150"
   ]
  },
  {
   "cell_type": "code",
   "execution_count": 13,
   "id": "8460d2fa",
   "metadata": {},
   "outputs": [
    {
     "name": "stdout",
     "output_type": "stream",
     "text": [
      "[2, 3, 7, 150, 'syed', 3.15, 100, True]\n"
     ]
    }
   ],
   "source": [
    "print(l1)"
   ]
  },
  {
   "cell_type": "code",
   "execution_count": 15,
   "id": "ab8d462c",
   "metadata": {},
   "outputs": [],
   "source": [
    "l1[2] = \"My Python\""
   ]
  },
  {
   "cell_type": "code",
   "execution_count": 17,
   "id": "4dae22d1",
   "metadata": {},
   "outputs": [
    {
     "name": "stdout",
     "output_type": "stream",
     "text": [
      "[2, 3, 'My Python', 150, 'syed', 3.15, 100, True]\n"
     ]
    }
   ],
   "source": [
    "print(l1)"
   ]
  },
  {
   "cell_type": "code",
   "execution_count": 9,
   "id": "211bc799",
   "metadata": {},
   "outputs": [
    {
     "data": {
      "text/plain": [
       "[7, 150]"
      ]
     },
     "execution_count": 9,
     "metadata": {},
     "output_type": "execute_result"
    }
   ],
   "source": [
    "l1[2:4]"
   ]
  },
  {
   "cell_type": "code",
   "execution_count": null,
   "id": "7a3fb824",
   "metadata": {},
   "outputs": [
    {
     "data": {
      "text/plain": [
       "[500, 'syed', 3.15, 150, True]"
      ]
     },
     "execution_count": 5,
     "metadata": {},
     "output_type": "execute_result"
    }
   ],
   "source": [
    "l1[0]=500\n",
    "l1"
   ]
  },
  {
   "cell_type": "code",
   "execution_count": null,
   "id": "008683c0",
   "metadata": {},
   "outputs": [
    {
     "data": {
      "text/plain": [
       "[50, 'syed', 3.15, 100, True, 120]"
      ]
     },
     "execution_count": 35,
     "metadata": {},
     "output_type": "execute_result"
    }
   ],
   "source": [
    "l1.pop(6)\n",
    "l1"
   ]
  },
  {
   "cell_type": "code",
   "execution_count": 18,
   "id": "d47fe9e0",
   "metadata": {},
   "outputs": [
    {
     "data": {
      "text/plain": [
       "['water', 2, 3, 'My Python', 150, 'syed', 3.15, 100, True]"
      ]
     },
     "execution_count": 18,
     "metadata": {},
     "output_type": "execute_result"
    }
   ],
   "source": [
    "l1.insert(0,'water')\n",
    "l1"
   ]
  },
  {
   "cell_type": "code",
   "execution_count": null,
   "id": "896542be",
   "metadata": {},
   "outputs": [
    {
     "data": {
      "text/plain": [
       "'Mango'"
      ]
     },
     "execution_count": 14,
     "metadata": {},
     "output_type": "execute_result"
    }
   ],
   "source": [
    "l1.append('Mango')\n",
    "l1.pop(-1)"
   ]
  },
  {
   "cell_type": "code",
   "execution_count": null,
   "id": "b43c3caf",
   "metadata": {},
   "outputs": [
    {
     "name": "stdout",
     "output_type": "stream",
     "text": [
      "['apple', 'banana', 'cherry']\n"
     ]
    }
   ],
   "source": [
    "# Creating a simple list\n",
    "fruits = [\"apple\", \"banana\", \"cherry\"]\n",
    "print(fruits)\n"
   ]
  },
  {
   "cell_type": "code",
   "execution_count": null,
   "id": "0285bcef",
   "metadata": {},
   "outputs": [
    {
     "data": {
      "text/plain": [
       "['water', 500, 'syed', 3.15, 'banana', 'banana', True, 150, 'Mango']"
      ]
     },
     "execution_count": 22,
     "metadata": {},
     "output_type": "execute_result"
    }
   ],
   "source": [
    "l1.remove('Mango')\n",
    "l1"
   ]
  },
  {
   "cell_type": "code",
   "execution_count": null,
   "id": "5bca559b",
   "metadata": {},
   "outputs": [
    {
     "data": {
      "text/plain": [
       "10"
      ]
     },
     "execution_count": 42,
     "metadata": {},
     "output_type": "execute_result"
    }
   ],
   "source": [
    "l1.pop()"
   ]
  },
  {
   "cell_type": "code",
   "execution_count": null,
   "id": "e3b771d3",
   "metadata": {},
   "outputs": [
    {
     "data": {
      "text/plain": [
       "[50, 'syed', 3.15, 'banana', 'banana', 100, True, 120, 'Hero']"
      ]
     },
     "execution_count": 45,
     "metadata": {},
     "output_type": "execute_result"
    }
   ],
   "source": [
    "l1.append('Hero')\n",
    "l1"
   ]
  },
  {
   "cell_type": "code",
   "execution_count": 20,
   "id": "25e92c67",
   "metadata": {},
   "outputs": [],
   "source": [
    "l2 = ['Apple',\"Banana\", 'Grapes','Egg','Anar','Cherry']\n",
    "l3 = [7,8,9,1,10]\n",
    "      "
   ]
  },
  {
   "cell_type": "code",
   "execution_count": 21,
   "id": "6f88e109",
   "metadata": {},
   "outputs": [
    {
     "data": {
      "text/plain": [
       "(['Apple', 'Banana', 'Grapes', 'Egg', 'Anar', 'Cherry'], [7, 8, 9, 1, 10])"
      ]
     },
     "execution_count": 21,
     "metadata": {},
     "output_type": "execute_result"
    }
   ],
   "source": [
    "l2,l3"
   ]
  },
  {
   "cell_type": "code",
   "execution_count": 22,
   "id": "5d09e043",
   "metadata": {},
   "outputs": [
    {
     "data": {
      "text/plain": [
       "['Apple', 'Banana', 'Grapes', 'Egg', 'Anar', 'Cherry', 7, 8, 9, 1, 10]"
      ]
     },
     "execution_count": 22,
     "metadata": {},
     "output_type": "execute_result"
    }
   ],
   "source": [
    "l2+l3"
   ]
  },
  {
   "cell_type": "code",
   "execution_count": 23,
   "id": "22d764ae",
   "metadata": {},
   "outputs": [
    {
     "data": {
      "text/plain": [
       "['Anar', 'Apple', 'Banana', 'Cherry', 'Egg', 'Grapes']"
      ]
     },
     "execution_count": 23,
     "metadata": {},
     "output_type": "execute_result"
    }
   ],
   "source": [
    "l2.sort()\n",
    "l2"
   ]
  },
  {
   "cell_type": "code",
   "execution_count": 24,
   "id": "364f6a2a",
   "metadata": {},
   "outputs": [
    {
     "data": {
      "text/plain": [
       "['Grapes', 'Egg', 'Cherry', 'Banana', 'Apple', 'Anar']"
      ]
     },
     "execution_count": 24,
     "metadata": {},
     "output_type": "execute_result"
    }
   ],
   "source": [
    "l2.reverse()\n",
    "l2"
   ]
  },
  {
   "cell_type": "code",
   "execution_count": 25,
   "id": "d48f98c8",
   "metadata": {},
   "outputs": [
    {
     "name": "stdout",
     "output_type": "stream",
     "text": [
      "apple\n",
      "banana\n",
      "cherry\n"
     ]
    }
   ],
   "source": [
    "lis = [\"apple\", \"banana\", \"cherry\"]\n",
    "for i in lis:\n",
    "  print(i)"
   ]
  },
  {
   "cell_type": "code",
   "execution_count": null,
   "id": "1a4bf1ad",
   "metadata": {},
   "outputs": [],
   "source": []
  },
  {
   "cell_type": "markdown",
   "id": "213f53e4",
   "metadata": {},
   "source": [
    "# Dictionary in Python"
   ]
  },
  {
   "cell_type": "markdown",
   "id": "b21585d6",
   "metadata": {},
   "source": [
    "A dictionary in Python is a collection of key-value pairs. It is unordered, mutable, and indexed.\n",
    "You can create a dictionary using curly braces {} or the dict() constructor."
   ]
  },
  {
   "cell_type": "markdown",
   "id": "4d68109c",
   "metadata": {},
   "source": [
    "Python main ake dictionary ki majmuah hoti he joe kay-qimat joday hote haine yah bay tarteeba tabdeel ho sakti hai aur index ki hoti haiaap dictionary co curly breases {} ya dict() constrictor ki madad se bana sakte haine \n",
    " "
   ]
  },
  {
   "cell_type": "code",
   "execution_count": null,
   "id": "30e736a7",
   "metadata": {},
   "outputs": [
    {
     "data": {
      "text/plain": [
       "{'Apple': 100, 'Banana': 60, 'Cherry': 125, 'Date': 305, 'Berry': 150}"
      ]
     },
     "execution_count": 112,
     "metadata": {},
     "output_type": "execute_result"
    }
   ],
   "source": [
    "d1 = {'Apple': 100,'Banana': 60,'Cherry': 125,'Date' : 305,'Berry': 150 }\n",
    "d1"
   ]
  },
  {
   "cell_type": "code",
   "execution_count": null,
   "id": "d02ae14d",
   "metadata": {},
   "outputs": [
    {
     "data": {
      "text/plain": [
       "dict_keys(['Apple', 'Banana', 'Cherry', 'Date', 'Berry'])"
      ]
     },
     "execution_count": 61,
     "metadata": {},
     "output_type": "execute_result"
    }
   ],
   "source": [
    "d1.keys()"
   ]
  },
  {
   "cell_type": "code",
   "execution_count": null,
   "id": "daa44fde",
   "metadata": {},
   "outputs": [
    {
     "data": {
      "text/plain": [
       "dict_values([100, 60, 125, 305, 150])"
      ]
     },
     "execution_count": 60,
     "metadata": {},
     "output_type": "execute_result"
    }
   ],
   "source": [
    "d1.values()\n"
   ]
  },
  {
   "cell_type": "code",
   "execution_count": null,
   "id": "421baa17",
   "metadata": {},
   "outputs": [
    {
     "name": "stdout",
     "output_type": "stream",
     "text": [
      "100\n",
      "125\n",
      "305\n"
     ]
    }
   ],
   "source": [
    "# You can access the price of a specific fruit by using its key in square brackets [].\n",
    "print(d1['Apple'])\n",
    "print(d1['Cherry']) \n",
    "print(d1['Date'])"
   ]
  },
  {
   "cell_type": "code",
   "execution_count": null,
   "id": "b2b8f466",
   "metadata": {},
   "outputs": [],
   "source": [
    "d1['Orange'] = 90"
   ]
  },
  {
   "cell_type": "code",
   "execution_count": null,
   "id": "5d57fd6a",
   "metadata": {},
   "outputs": [
    {
     "data": {
      "text/plain": [
       "{'Apple': 100, 'Banana': 60, 'Cherry': 125, 'Date': 305, 'Berry': 150}"
      ]
     },
     "execution_count": 113,
     "metadata": {},
     "output_type": "execute_result"
    }
   ],
   "source": [
    "d1"
   ]
  },
  {
   "cell_type": "code",
   "execution_count": null,
   "id": "3125f0d6",
   "metadata": {},
   "outputs": [],
   "source": [
    "d2 ={'Watermellon':150,'Grapes': 80,}"
   ]
  },
  {
   "cell_type": "code",
   "execution_count": null,
   "id": "36a776d4",
   "metadata": {},
   "outputs": [
    {
     "data": {
      "text/plain": [
       "{'Apple': 100,\n",
       " 'Banana': 60,\n",
       " 'Cherry': 125,\n",
       " 'Date': 305,\n",
       " 'Berry': 150,\n",
       " 'Watermellon': 150,\n",
       " 'Grapes': 80}"
      ]
     },
     "execution_count": 114,
     "metadata": {},
     "output_type": "execute_result"
    }
   ],
   "source": [
    "d1.update(d2)\n",
    "d1"
   ]
  },
  {
   "cell_type": "code",
   "execution_count": null,
   "id": "322682de",
   "metadata": {},
   "outputs": [
    {
     "data": {
      "text/plain": [
       "305"
      ]
     },
     "execution_count": 75,
     "metadata": {},
     "output_type": "execute_result"
    }
   ],
   "source": [
    "d1.get('Date')"
   ]
  },
  {
   "cell_type": "code",
   "execution_count": null,
   "id": "d8ca514f",
   "metadata": {},
   "outputs": [
    {
     "data": {
      "text/plain": [
       "dict_items([('Apple', 100), ('Banana', 60), ('Cherry', 125), ('Date', 305), ('Berry', 150), ('Grapes', 80), ('Watermellon', 150), ('Orange', 90)])"
      ]
     },
     "execution_count": 108,
     "metadata": {},
     "output_type": "execute_result"
    }
   ],
   "source": [
    "d1.items()"
   ]
  },
  {
   "cell_type": "code",
   "execution_count": null,
   "id": "3ec57539",
   "metadata": {},
   "outputs": [
    {
     "data": {
      "text/plain": [
       "(150, 170)"
      ]
     },
     "execution_count": 97,
     "metadata": {},
     "output_type": "execute_result"
    }
   ],
   "source": [
    "d1.pop(('Mango', 'Rberry'), (150, 170))"
   ]
  },
  {
   "cell_type": "code",
   "execution_count": null,
   "id": "d68768d3",
   "metadata": {},
   "outputs": [
    {
     "data": {
      "text/plain": [
       "dict_items([('Apple', 100), ('Banana', 60), ('Cherry', 125), ('Date', 305), ('Berry', 150), ('Grapes', 80)])"
      ]
     },
     "execution_count": 98,
     "metadata": {},
     "output_type": "execute_result"
    }
   ],
   "source": [
    "d1.items()"
   ]
  },
  {
   "cell_type": "code",
   "execution_count": null,
   "id": "9eb33fa2",
   "metadata": {},
   "outputs": [
    {
     "data": {
      "text/plain": [
       "{'Apple': 100,\n",
       " 'Banana': 60,\n",
       " 'Cherry': 125,\n",
       " 'Date': 305,\n",
       " 'Berry': 150,\n",
       " 'Watermellon': 150,\n",
       " 'Grapes': 80}"
      ]
     },
     "execution_count": 115,
     "metadata": {},
     "output_type": "execute_result"
    }
   ],
   "source": [
    "d1"
   ]
  },
  {
   "cell_type": "code",
   "execution_count": null,
   "id": "5ce23fe0",
   "metadata": {},
   "outputs": [
    {
     "name": "stdout",
     "output_type": "stream",
     "text": [
      "Apple is available\n"
     ]
    }
   ],
   "source": [
    "if 'Apple' in d1:\n",
    "    print('Apple is available')\n",
    "else:\n",
    "    print('Apple is not available')\n"
   ]
  },
  {
   "cell_type": "code",
   "execution_count": null,
   "id": "e0b0b42e",
   "metadata": {},
   "outputs": [
    {
     "name": "stdout",
     "output_type": "stream",
     "text": [
      "Apple\n",
      "Banana\n",
      "Cherry\n",
      "Date\n",
      "Berry\n",
      "Grapes\n",
      "Watermellon\n",
      "Orange\n"
     ]
    }
   ],
   "source": [
    "for fruit in d1: #Iterating Through Keys\n",
    "    print(fruit)\n"
   ]
  },
  {
   "cell_type": "code",
   "execution_count": null,
   "id": "2125178d",
   "metadata": {},
   "outputs": [
    {
     "name": "stdout",
     "output_type": "stream",
     "text": [
      "100\n",
      "60\n",
      "125\n",
      "305\n",
      "150\n",
      "80\n",
      "150\n",
      "90\n"
     ]
    }
   ],
   "source": [
    "for price in d1.values(): #Iterating Through Values\n",
    "    print(price)\n"
   ]
  },
  {
   "cell_type": "code",
   "execution_count": null,
   "id": "329bf2e7",
   "metadata": {},
   "outputs": [
    {
     "name": "stdout",
     "output_type": "stream",
     "text": [
      "Apple: $100\n",
      "Banana: $60\n",
      "Cherry: $125\n",
      "Date: $305\n",
      "Berry: $150\n",
      "Grapes: $80\n",
      "Watermellon: $150\n",
      "Orange: $90\n"
     ]
    }
   ],
   "source": [
    "for fruit, price in d1.items(): #Iterating Through Key-Value Pairs\n",
    "    print(f'{fruit}: ${price}')\n"
   ]
  },
  {
   "cell_type": "code",
   "execution_count": null,
   "id": "99a89c6b",
   "metadata": {},
   "outputs": [
    {
     "name": "stdout",
     "output_type": "stream",
     "text": [
      "{'apple': {'price': 0.6, 'quantity': 100}, 'banana': {'price': 0.25, 'quantity': 150}, 'cherry': {'price': 1.5, 'quantity': 200}}\n"
     ]
    }
   ],
   "source": [
    "# Creating a nested dictionary\n",
    "d5 = {\n",
    "    'apple': {'price': 0.60, 'quantity': 100},\n",
    "    'banana': {'price': 0.25, 'quantity': 150},\n",
    "    'cherry': {'price': 1.50, 'quantity': 200}\n",
    "}\n",
    "print(d5)\n"
   ]
  },
  {
   "cell_type": "code",
   "execution_count": null,
   "id": "4b32bb8d",
   "metadata": {},
   "outputs": [
    {
     "name": "stdout",
     "output_type": "stream",
     "text": [
      "Price of an apple: $0.6\n"
     ]
    }
   ],
   "source": [
    "apple_price = d5 ['apple']['price']\n",
    "print(f\"Price of an apple: ${apple_price}\")  # Output: 0.60\n"
   ]
  },
  {
   "cell_type": "code",
   "execution_count": null,
   "id": "f79bd9b6",
   "metadata": {},
   "outputs": [
    {
     "name": "stdout",
     "output_type": "stream",
     "text": [
      "{'apple': {'price': 0.6, 'quantity': 100}, 'banana': {'price': 0.25, 'quantity': 150}, 'cherry': {'price': 1.5, 'quantity': 200}, 'grapes': {'price': 0.95, 'quantity': 40}, 'mango': {'price': 0.9, 'quantity': 90}}\n"
     ]
    }
   ],
   "source": [
    "d5['mango'] = {'price': 0.90, 'quantity': 90}\n",
    "print(d5)\n"
   ]
  },
  {
   "cell_type": "code",
   "execution_count": null,
   "id": "3b321646",
   "metadata": {},
   "outputs": [
    {
     "name": "stdout",
     "output_type": "stream",
     "text": [
      "{'apple': {'price': 0.6, 'quantity': 100}, 'banana': {'price': 0.75, 'quantity': 180}, 'cherry': {'price': 1.5, 'quantity': 200}, 'grapes': {'price': 0.95, 'quantity': 40}, 'mango': {'price': 0.9, 'quantity': 90}}\n"
     ]
    }
   ],
   "source": [
    "d5['banana']['price'] = 0.75\n",
    "d5['banana']['quantity'] = 180\n",
    "print(d5)\n"
   ]
  },
  {
   "cell_type": "code",
   "execution_count": null,
   "id": "b7d2b048",
   "metadata": {},
   "outputs": [
    {
     "name": "stdout",
     "output_type": "stream",
     "text": [
      "apple: ${'price': 0.6, 'quantity': 100}\n",
      "banana: ${'price': 0.75, 'quantity': 180}\n",
      "cherry: ${'price': 1.5, 'quantity': 200}\n",
      "grapes: ${'price': 0.95, 'quantity': 40}\n",
      "mango: ${'price': 0.9, 'quantity': 90}\n"
     ]
    }
   ],
   "source": [
    "for fruit, price in d5.items(): #Iterating Through Key-Value Pairs\n",
    "    print(f'{fruit}: ${price}')\n"
   ]
  },
  {
   "cell_type": "code",
   "execution_count": null,
   "id": "a7039403",
   "metadata": {},
   "outputs": [
    {
     "name": "stdout",
     "output_type": "stream",
     "text": [
      "Quantity of bananas: 180\n"
     ]
    }
   ],
   "source": [
    "banana_quantity = d5['banana']['quantity']\n",
    "print(f\"Quantity of bananas: {banana_quantity}\")  # Output: 150\n"
   ]
  },
  {
   "cell_type": "code",
   "execution_count": null,
   "id": "48c61e9d",
   "metadata": {},
   "outputs": [
    {
     "data": {
      "text/plain": [
       "{'apple': {'price': 0.6, 'quantity': 100},\n",
       " 'banana': {'price': 0.75, 'quantity': 180},\n",
       " 'cherry': {'price': 1.5, 'quantity': 200},\n",
       " 'grapes': {'price': 0.95, 'quantity': 40},\n",
       " 'mango': {'price': 0.9, 'quantity': 90}}"
      ]
     },
     "execution_count": 22,
     "metadata": {},
     "output_type": "execute_result"
    }
   ],
   "source": [
    "d5"
   ]
  },
  {
   "cell_type": "markdown",
   "id": "20aa8011",
   "metadata": {},
   "source": [
    "for fruit, details in d5.items():\n",
    "    print(f\"Fruit: {fruit}\")\n",
    "    for key, value in details.items():\n",
    "        print(f\"  {key}: {value}\")\n"
   ]
  },
  {
   "cell_type": "code",
   "execution_count": 5,
   "id": "6090b0f6",
   "metadata": {},
   "outputs": [],
   "source": [
    "# def apply_discount(inventory, discount):\n",
    "#     for fruit, details in inventory.items():\n",
    "#         details['price'] = round(details['price'] * (1 - discount), 2)\n",
    "#     return inventory\n",
    "\n",
    "# # Apply a 10% discount to all fruit prices\n",
    "# discounted_inventory = apply_discount(fruit_inventory, 0.10)\n",
    "# print(discounted_inventory)\n"
   ]
  },
  {
   "cell_type": "raw",
   "id": "fc147014",
   "metadata": {},
   "source": []
  },
  {
   "cell_type": "code",
   "execution_count": 34,
   "id": "ab4813ae",
   "metadata": {},
   "outputs": [
    {
     "name": "stdout",
     "output_type": "stream",
     "text": [
      "Current Fruit Inventory:\n",
      "Fruit: apple\n",
      "  price: 0.6\n",
      "  quantity: 100\n",
      "Fruit: banana\n",
      "  price: 0.25\n",
      "  quantity: 150\n",
      "Fruit: cherry\n",
      "  price: 1.5\n",
      "  quantity: 200\n",
      "\n",
      "mango added to the inventory.\n",
      "Current Fruit Inventory:\n",
      "Fruit: apple\n",
      "  price: 0.6\n",
      "  quantity: 100\n",
      "Fruit: banana\n",
      "  price: 0.25\n",
      "  quantity: 150\n",
      "Fruit: cherry\n",
      "  price: 1.5\n",
      "  quantity: 200\n",
      "Fruit: mango\n",
      "  price: 0.75\n",
      "  quantity: 80\n",
      "\n",
      "The price of apple has been updated.\n",
      "Current Fruit Inventory:\n",
      "Fruit: apple\n",
      "  price: 0.65\n",
      "  quantity: 100\n",
      "Fruit: banana\n",
      "  price: 0.25\n",
      "  quantity: 150\n",
      "Fruit: cherry\n",
      "  price: 1.5\n",
      "  quantity: 200\n",
      "Fruit: mango\n",
      "  price: 0.75\n",
      "  quantity: 80\n",
      "\n",
      "The quantity of banana has been updated.\n",
      "Current Fruit Inventory:\n",
      "Fruit: apple\n",
      "  price: 0.65\n",
      "  quantity: 100\n",
      "Fruit: banana\n",
      "  price: 0.25\n",
      "  quantity: 120\n",
      "Fruit: cherry\n",
      "  price: 1.5\n",
      "  quantity: 200\n",
      "Fruit: mango\n",
      "  price: 0.75\n",
      "  quantity: 80\n",
      "\n",
      "cherry has been removed from the inventory.\n",
      "Current Fruit Inventory:\n",
      "Fruit: apple\n",
      "  price: 0.65\n",
      "  quantity: 100\n",
      "Fruit: banana\n",
      "  price: 0.25\n",
      "  quantity: 120\n",
      "Fruit: mango\n",
      "  price: 0.75\n",
      "  quantity: 80\n",
      "\n"
     ]
    }
   ],
   "source": [
    "# Step 1: Create the fruit inventory dictionary\n",
    "fr = {\n",
    "    'apple': {'price': 0.60, 'quantity': 100},\n",
    "    'banana': {'price': 0.25, 'quantity': 150},\n",
    "    'cherry': {'price': 1.50, 'quantity': 200}\n",
    "}\n",
    "\n",
    "# Step 2: Define a function to display the inventory\n",
    "def display_inventory(fr):\n",
    "    print(\"Current Fruit Inventory:\")\n",
    "    for fruit, details in fr.items():\n",
    "        print(f\"Fruit: {fruit}\")\n",
    "        for key, value in details.items():\n",
    "            print(f\"  {key}: {value}\")\n",
    "    print()\n",
    "\n",
    "# Step 3: Define a function to add a new fruit to the inventory\n",
    "def add_fruit(fr, fruit, price, quantity):\n",
    "    fr[fruit] = {'price': price, 'quantity': quantity}\n",
    "    print(f\"{fruit} added to the inventory.\")\n",
    "    display_inventory(fr)\n",
    "\n",
    "# Step 4: Define a function to update the price of a fruit\n",
    "def update_price(fr, fruit, new_price):\n",
    "    if fruit in fr:\n",
    "        fr[fruit]['price'] = new_price\n",
    "        print(f\"The price of {fruit} has been updated.\")\n",
    "    else:\n",
    "        print(f\"{fruit} not found in the inventory.\")\n",
    "    display_inventory(fr)\n",
    "\n",
    "# Step 5: Define a function to update the quantity of a fruit\n",
    "def update_quantity(fr, fruit, new_quantity):\n",
    "    if fruit in fr:\n",
    "        fr[fruit]['quantity'] = new_quantity\n",
    "        print(f\"The quantity of {fruit} has been updated.\")\n",
    "    else:\n",
    "        print(f\"{fruit} not found in the inventory.\")\n",
    "    display_inventory(fr)\n",
    "\n",
    "# Step 6: Define a function to remove a fruit from the inventory\n",
    "def remove_fruit(fr, fruit):\n",
    "    if fruit in fr:\n",
    "        del fr[fruit]\n",
    "        print(f\"{fruit} has been removed from the inventory.\")\n",
    "    else:\n",
    "        print(f\"{fruit} not found in the inventory.\")\n",
    "    display_inventory(fr)\n",
    "\n",
    "display_inventory(fr)\n",
    "add_fruit(fr, 'mango', 0.75, 80)\n",
    "update_price(fr, 'apple', 0.65)\n",
    "update_quantity(fr, 'banana', 120)\n",
    "remove_fruit(fr, 'cherry')"
   ]
  },
  {
   "cell_type": "code",
   "execution_count": 35,
   "id": "f3c11db3",
   "metadata": {},
   "outputs": [],
   "source": [
    "fr['orange'] = {'price': 0.90, 'quantity': 100}"
   ]
  },
  {
   "cell_type": "code",
   "execution_count": 36,
   "id": "7470506e",
   "metadata": {},
   "outputs": [
    {
     "name": "stdout",
     "output_type": "stream",
     "text": [
      "apple: ${'price': 0.65, 'quantity': 100}\n",
      "banana: ${'price': 0.25, 'quantity': 120}\n",
      "mango: ${'price': 0.75, 'quantity': 80}\n",
      "orange: ${'price': 0.9, 'quantity': 100}\n"
     ]
    }
   ],
   "source": [
    "for fruit, price in fr.items(): #Iterating Through Key-Value Pairs\n",
    "    print(f'{fruit}: ${price}')\n"
   ]
  },
  {
   "cell_type": "code",
   "execution_count": 37,
   "id": "b9f2a891",
   "metadata": {},
   "outputs": [
    {
     "data": {
      "text/plain": [
       "dict_keys(['apple', 'banana', 'mango', 'orange'])"
      ]
     },
     "execution_count": 37,
     "metadata": {},
     "output_type": "execute_result"
    }
   ],
   "source": [
    "fr.keys()"
   ]
  },
  {
   "cell_type": "code",
   "execution_count": 38,
   "id": "36bca4f5",
   "metadata": {},
   "outputs": [
    {
     "data": {
      "text/plain": [
       "{'apple': {'price': 0.65, 'quantity': 100},\n",
       " 'banana': {'price': 0.25, 'quantity': 120},\n",
       " 'mango': {'price': 0.75, 'quantity': 80},\n",
       " 'orange': {'price': 0.9, 'quantity': 100}}"
      ]
     },
     "execution_count": 38,
     "metadata": {},
     "output_type": "execute_result"
    }
   ],
   "source": [
    "fr"
   ]
  },
  {
   "cell_type": "raw",
   "id": "abaa538a",
   "metadata": {},
   "source": [
    "If Statement"
   ]
  },
  {
   "cell_type": "code",
   "execution_count": 39,
   "id": "4b6d8039",
   "metadata": {},
   "outputs": [
    {
     "name": "stdout",
     "output_type": "stream",
     "text": [
      "orange is available\n"
     ]
    }
   ],
   "source": [
    "if 'orange' in fr:\n",
    "    print('orange is available')\n",
    "else:\n",
    "    print('orange is not available')\n"
   ]
  },
  {
   "cell_type": "code",
   "execution_count": null,
   "id": "aa2ffd62",
   "metadata": {},
   "outputs": [],
   "source": []
  },
  {
   "cell_type": "code",
   "execution_count": 44,
   "id": "e9c875b9",
   "metadata": {},
   "outputs": [
    {
     "name": "stdout",
     "output_type": "stream",
     "text": [
      "You entered Grape.\n"
     ]
    }
   ],
   "source": [
    "fruit = input(\"Enter the name of a fruit: \")\n",
    "\n",
    "if fruit == \"apple\":\n",
    "    print(\"You entered apple.\")\n",
    "elif fruit == \"banana\":\n",
    "    print(\"You entered banana.\")\n",
    "else:\n",
    "    print(f\"You entered {fruit}.\")\n"
   ]
  },
  {
   "cell_type": "code",
   "execution_count": 45,
   "id": "fc562acb",
   "metadata": {},
   "outputs": [
    {
     "name": "stdout",
     "output_type": "stream",
     "text": [
      "You entred Jaan.\n"
     ]
    }
   ],
   "source": [
    "Movie = input(\"Enter the movie name you like :\")\n",
    "\n",
    "if Movie == \"Naam\":\n",
    "    print(\"You entred : Naam\")\n",
    "elif Movie == \"ddl\":\n",
    "    print(\"You entred : DDL\")\n",
    "else:\n",
    "    print(f\"You entred {Movie}.\")\n",
    "    "
   ]
  },
  {
   "cell_type": "code",
   "execution_count": null,
   "id": "ae822ccb",
   "metadata": {},
   "outputs": [],
   "source": []
  },
  {
   "cell_type": "code",
   "execution_count": null,
   "id": "9d68a9e3",
   "metadata": {},
   "outputs": [
    {
     "name": "stdout",
     "output_type": "stream",
     "text": [
      "{'apple': 10, 'banana': 5, 'orange': 8, 'grape': 15, 'buleberry': 45}\n"
     ]
    }
   ],
   "source": [
    "new_fruit = \"buleberry\"\n",
    "quantity = 15\n",
    "\n",
    "if new_fruit in fruits:\n",
    "    fruits[new_fruit] += quantity\n",
    "else:\n",
    "    fruits[new_fruit] = quantity\n",
    "\n",
    "print(fruits)"
   ]
  },
  {
   "cell_type": "code",
   "execution_count": null,
   "id": "1cd3f080",
   "metadata": {},
   "outputs": [],
   "source": [
    "fruits = {\n",
    "    \"apple\": 10,\n",
    "    \"banana\": 5,\n",
    "    \"orange\": 8\n",
    "}\n",
    "\n",
    "# Check if a key exists\n",
    "if \"apple\" in fruits:\n",
    "    print(\"Apple is available\")\n",
    "else:\n",
    "    print(\"Apple is not available\")\n",
    "\n",
    "# Access and compare values\n",
    "if \"banana\" in fruits:\n",
    "    if fruits[\"banana\"] > 0:\n",
    "        print(\"Bananas are in stock\")\n",
    "    else:\n",
    "        print(\"Bananas are out of stock\")\n",
    "else:\n",
    "    print(\"Bananas are not listed in the inventory\")\n",
    "\n",
    "# Add a new fruit or update an existing one\n",
    "# new_fruit = \"grape\"\n",
    "# quantity = 15\n",
    "\n",
    "# if new_fruit in fruits:\n",
    "#     fruits[new_fruit] += quantity\n",
    "# else:\n",
    "#     fruits[new_fruit] = quantity\n",
    "\n",
    "print(fruits)\n"
   ]
  },
  {
   "cell_type": "code",
   "execution_count": null,
   "id": "eab27716",
   "metadata": {},
   "outputs": [
    {
     "name": "stdout",
     "output_type": "stream",
     "text": [
      "Apple is available\n",
      "Bananas are in stock\n"
     ]
    }
   ],
   "source": [
    "fruits = {\n",
    "    \"apple\": 10,\n",
    "    \"banana\": 5,\n",
    "    \"orange\": 8\n",
    "}\n",
    "\n",
    "# Check if a key exists\n",
    "if \"apple\" in fruits:\n",
    "    print(\"Apple is available\")\n",
    "else:\n",
    "    print(\"Apple is not available\")\n",
    "\n",
    "# Access and compare values\n",
    "if \"banana\" in fruits:\n",
    "    if fruits[\"banana\"] > 0:\n",
    "        print(\"Bananas are in stock\")\n",
    "    else:\n",
    "        print(\"Bananas are out of stock\")\n",
    "else:\n",
    "    print(\"Bananas are not listed in the inventory\")"
   ]
  },
  {
   "cell_type": "code",
   "execution_count": 47,
   "id": "3caeb91e",
   "metadata": {},
   "outputs": [
    {
     "name": "stdout",
     "output_type": "stream",
     "text": [
      "1501 is odd.\n"
     ]
    }
   ],
   "source": [
    "# Even or Odd program in Python    Write a Python program that takes an integer as input and prints whether it is even or odd using an if-else statement.\n",
    "num = int(input(\"Enter an integer: \"))\n",
    "if num % 2 == 0:\n",
    "    print(num, \"is even.\")\n",
    "else:\n",
    "    print(num, \"is odd.\")\n"
   ]
  },
  {
   "cell_type": "code",
   "execution_count": 48,
   "id": "ebcada09",
   "metadata": {},
   "outputs": [
    {
     "name": "stdout",
     "output_type": "stream",
     "text": [
      "A\n"
     ]
    }
   ],
   "source": [
    "# if else exercises in python test: Grade Calculator\n",
    "score = float(input(\"Enter your score: \"))\n",
    " \n",
    "if score >= 90:\n",
    "    print(\"A\")\n",
    "elif score >= 80:\n",
    "    print(\"B\")\n",
    "elif score >= 70:\n",
    "    print(\"C\")\n",
    "elif score >= 60:\n",
    "    print(\"D\")\n",
    "else:\n",
    "    print(\"F\")"
   ]
  },
  {
   "cell_type": "code",
   "execution_count": 49,
   "id": "068b9244",
   "metadata": {},
   "outputs": [
    {
     "name": "stdout",
     "output_type": "stream",
     "text": [
      "You are an adult.\n"
     ]
    }
   ],
   "source": [
    "# if else exercises in python\n",
    "age = int(input(\"Enter your age: \"))\n",
    " \n",
    "if age < 18:\n",
    "    print(\"You are a child.\")\n",
    "elif age < 60:\n",
    "    print(\"You are an adult.\")\n",
    "else:\n",
    "    print(\"You are a senior citizen.\")\n"
   ]
  },
  {
   "cell_type": "code",
   "execution_count": 51,
   "id": "6d8c585e",
   "metadata": {},
   "outputs": [
    {
     "name": "stdout",
     "output_type": "stream",
     "text": [
      "Welcome to the ATM!\n",
      "\n",
      "Withdrawn $500.0. New balance: $49500.0.\n"
     ]
    }
   ],
   "source": [
    "# if else exercises pdf in python: ATM machine\n",
    "account_balance = 50000  # Initial account balance\n",
    " \n",
    "print(\"Welcome to the ATM!\")\n",
    "print()\n",
    "option = input(\"Choose an option (1: Check Balance, 2: Withdraw): \")\n",
    " \n",
    "if option == \"1\":\n",
    "    print(f\"Your account balance is ${account_balance}.\")\n",
    "elif option == \"2\":\n",
    "    amount = float(input(\"Enter the withdrawal amount: \"))\n",
    "    if amount <= account_balance:\n",
    "        account_balance -= amount\n",
    "        print(f\"Withdrawn ${amount}. New balance: ${account_balance}.\")\n",
    "    else:\n",
    "        print(\"Insufficient funds.\")\n",
    "else:\n",
    "    print(\"Invalid option. Please choose 1 or 2.\")"
   ]
  },
  {
   "cell_type": "code",
   "execution_count": 55,
   "id": "5732dc1a",
   "metadata": {},
   "outputs": [
    {
     "name": "stdout",
     "output_type": "stream",
     "text": [
      "Welcome to the ATM!\n",
      "\n",
      "Withrawn $200.0. New balance: $2800.0.\n"
     ]
    }
   ],
   "source": [
    "account_balance = 3000\n",
    "\n",
    "print(\"Welcome to the ATM!\")\n",
    "print()\n",
    "option = input('choose an option(1: Check Balance, 2: Withdraw) :')\n",
    "if option == '1':\n",
    "    print(f\"Your account balance is ${account_balance}. \")\n",
    "elif option == '2':\n",
    "    amount = float(input(\"Enter the withrawal amount : \"))\n",
    "    if amount <= account_balance:\n",
    "        account_balance -= amount\n",
    "        print(f\"Withrawn ${amount}. New balance: ${account_balance}.\")\n",
    "    else:\n",
    "        print(\"Insufficient funds.\")\n",
    "else:\n",
    "    print(\"Invalid option. Please Choose 1 or 2\")\n",
    "\n"
   ]
  },
  {
   "cell_type": "code",
   "execution_count": 88,
   "id": "5b9351e2",
   "metadata": {},
   "outputs": [
    {
     "name": "stdout",
     "output_type": "stream",
     "text": [
      "Name: John Age: 25\n"
     ]
    }
   ],
   "source": [
    "name = \"John\"\n",
    "age = 25\n",
    "print(\"Name:\", name, \"Age:\", age)"
   ]
  },
  {
   "cell_type": "code",
   "execution_count": 56,
   "id": "92b7c8ff",
   "metadata": {},
   "outputs": [
    {
     "name": "stdout",
     "output_type": "stream",
     "text": [
      "Before Sentence:    Python is fun   to work\n",
      "Stripped Sentence: Python is fun to work\n"
     ]
    }
   ],
   "source": [
    "# Exercise: Remove whitespaces from the string and print the result.\n",
    "sentence = \"   Python is fun   to work\"\n",
    "stripped_sentence = \" \".join(sentence.split())\n",
    "print(\"Before Sentence:\", sentence)\n",
    "print(\"Stripped Sentence:\", stripped_sentence)"
   ]
  },
  {
   "cell_type": "code",
   "execution_count": 58,
   "id": "0c9f7723",
   "metadata": {},
   "outputs": [
    {
     "name": "stdout",
     "output_type": "stream",
     "text": [
      "wl : ['i', 'love', 'Python', 'Coding', 'is', 'an', 'art']\n"
     ]
    }
   ],
   "source": [
    "#Question: Create a Python program that splits a given string\n",
    "quote = \"i love Python Coding is an art\"  \n",
    "wl = quote.split()\n",
    "print(\"wl :\", wl)"
   ]
  },
  {
   "cell_type": "code",
   "execution_count": 63,
   "id": "dc245b7d",
   "metadata": {},
   "outputs": [
    {
     "name": "stdout",
     "output_type": "stream",
     "text": [
      "RepeatWord  Python  Python  Python \n"
     ]
    }
   ],
   "source": [
    "#Create a Python program that repeats a given word (‘Python’)\n",
    "Word = ' Python '\n",
    "RepeatWord = Word * 3\n",
    "print(\"RepeatWord\" , RepeatWord)"
   ]
  },
  {
   "cell_type": "code",
   "execution_count": 68,
   "id": "bcded915",
   "metadata": {},
   "outputs": [
    {
     "name": "stdout",
     "output_type": "stream",
     "text": [
      "padded_text : ------------My Name is Khan-------------\n",
      "Ptext : ------------------I Love Python-------------------\n"
     ]
    }
   ],
   "source": [
    "#Write a Python code that pads a given string (“Python”) with dashes on both sides\n",
    "Text = \"My Name is Khan\"\n",
    "padded_text = Text.center(40,\"-\")\n",
    "text2 = \"I Love Python\"\n",
    "Ptext = text2.center(50,\"-\")\n",
    "print(\"padded_text :\" , padded_text)\n",
    "print(\"Ptext :\",Ptext)"
   ]
  },
  {
   "cell_type": "code",
   "execution_count": 69,
   "id": "0dcd2bc3",
   "metadata": {},
   "outputs": [
    {
     "name": "stdout",
     "output_type": "stream",
     "text": [
      "Joined String: Coding is fun\n"
     ]
    }
   ],
   "source": [
    "# Exercise: Join the elements of the list into a single string and print the result.\n",
    "words = ['Coding', 'is', 'fun']\n",
    "joined_string = ' '.join(words)\n",
    "print(\"Joined String:\", joined_string)\n"
   ]
  },
  {
   "cell_type": "code",
   "execution_count": 70,
   "id": "fae110f4",
   "metadata": {},
   "outputs": [
    {
     "name": "stdout",
     "output_type": "stream",
     "text": [
      "Hello, my name is Moin and I am 45 years old.\n"
     ]
    }
   ],
   "source": [
    "# Exercise: Use string formatting to insert the values of 'name' and 'age' into the sentence and print the result.\n",
    "name = \"Moin\"\n",
    "age = 45\n",
    "Talk = \"Hello, my name is {} and I am {} years old.\".format(name, age)\n",
    "print(Talk)"
   ]
  },
  {
   "cell_type": "code",
   "execution_count": 13,
   "id": "4ab8e36f",
   "metadata": {},
   "outputs": [
    {
     "name": "stdout",
     "output_type": "stream",
     "text": [
      "Hello, my name is Syed Moin and I am 44 years old.\n"
     ]
    }
   ],
   "source": [
    "name = \"Syed Moin\"\n",
    "age = 44\n",
    "#Talk = (f\"Hello, my name is {name} and I am {age} years old.\") \n",
    "Talk = f\"Hello, my name is {name} and I am {age} years old.\"\n",
    "\n",
    "print(Talk)"
   ]
  },
  {
   "cell_type": "code",
   "execution_count": 12,
   "id": "15ce52e5",
   "metadata": {},
   "outputs": [
    {
     "name": "stdout",
     "output_type": "stream",
     "text": [
      "My name is Moin. I am 50 years old. I live in New York. I work as an Python engineer.\n"
     ]
    }
   ],
   "source": [
    "name = \"Moin\"\n",
    "age = 50\n",
    "city = \"New York\"\n",
    "profession = \"Python engineer\"\n",
    "introduction = f\"My name is {name}. I am {age} years old. I live in {city}. I work as an {profession}.\"\n",
    "print(introduction)"
   ]
  },
  {
   "cell_type": "code",
   "execution_count": 81,
   "id": "238f5f76",
   "metadata": {},
   "outputs": [
    {
     "name": "stdout",
     "output_type": "stream",
     "text": [
      "Language: Python, Version: 3.9, Popular Libraries: Django, Flask, Requests, Is Interpreted: True\n"
     ]
    }
   ],
   "source": [
    "# Variables\n",
    "language = \"Python\"\n",
    "version = 3.9\n",
    "popular_libraries = [\"Django\", \"Flask\", \"Requests\"]\n",
    "is_interpreted = True\n",
    "\n",
    "# Using f-string\n",
    "python_info = f\"Language: {language}, Version: {version}, Popular Libraries: {', '.join(popular_libraries)}, Is Interpreted: {is_interpreted}\"\n",
    "\n",
    "print(python_info)\n"
   ]
  },
  {
   "cell_type": "code",
   "execution_count": 84,
   "id": "3525de79",
   "metadata": {},
   "outputs": [
    {
     "name": "stdout",
     "output_type": "stream",
     "text": [
      "Formatted Amount: $3,500.50\n"
     ]
    }
   ],
   "source": [
    "# Exercise: Format the given number as a currency and print the result.\n",
    "#We can achieve this by using the format() method with the format specifier \"{:,.2f}\" to represent the number in currency format with two decimal places\n",
    "# and comma separators for thousands.\n",
    "amount = 3500.50\n",
    "formatted_amount = \"${:,.2f}\".format(amount)\n",
    "print(\"Formatted Amount:\", formatted_amount)"
   ]
  },
  {
   "cell_type": "code",
   "execution_count": 87,
   "id": "7a386816",
   "metadata": {},
   "outputs": [
    {
     "data": {
      "text/plain": [
       "'$1500.5'"
      ]
     },
     "execution_count": 87,
     "metadata": {},
     "output_type": "execute_result"
    }
   ],
   "source": [
    "\"$\" +  str(1500.50)"
   ]
  }
 ],
 "metadata": {
  "kernelspec": {
   "display_name": "Python 3 (ipykernel)",
   "language": "python",
   "name": "python3"
  },
  "language_info": {
   "codemirror_mode": {
    "name": "ipython",
    "version": 3
   },
   "file_extension": ".py",
   "mimetype": "text/x-python",
   "name": "python",
   "nbconvert_exporter": "python",
   "pygments_lexer": "ipython3",
   "version": "3.11.8"
  }
 },
 "nbformat": 4,
 "nbformat_minor": 5
}
