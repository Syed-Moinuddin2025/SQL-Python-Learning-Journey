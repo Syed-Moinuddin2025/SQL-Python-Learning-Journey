{
    "metadata": {
        "kernelspec": {
            "name": "SQL",
            "display_name": "SQL",
            "language": "sql"
        },
        "language_info": {
            "name": "sql",
            "version": ""
        }
    },
    "nbformat_minor": 2,
    "nbformat": 4,
    "cells": [
        {
            "cell_type": "markdown",
            "source": [
                "**\\-- SQL Practice Script: Basics + Intermediate --**\n",
                "\n",
                " **✅ Use this in VS Code with MS SQL extension**"
            ],
            "metadata": {
                "azdata_cell_guid": "61465014-0ba5-40ac-803e-e99a74f51b97",
                "language": ""
            },
            "attachments": {}
        },
        {
            "cell_type": "code",
            "source": [
                "-- 1. View all Employees\r\n",
                "SELECT * FROM Employees;\r\n",
                ""
            ],
            "metadata": {
                "language": "sql",
                "azdata_cell_guid": "5bcf48ee-24a2-473e-a9b0-0ee4ce2920e6"
            },
            "outputs": [
                {
                    "output_type": "display_data",
                    "data": {
                        "text/html": "(6 rows affected)"
                    },
                    "metadata": {}
                },
                {
                    "output_type": "display_data",
                    "data": {
                        "text/html": "Total execution time: 00:00:00.005"
                    },
                    "metadata": {}
                },
                {
                    "output_type": "execute_result",
                    "metadata": {},
                    "execution_count": 2,
                    "data": {
                        "application/vnd.dataresource+json": {
                            "schema": {
                                "fields": [
                                    {
                                        "name": "EmpID"
                                    },
                                    {
                                        "name": "FirstName"
                                    },
                                    {
                                        "name": "LastName"
                                    },
                                    {
                                        "name": "DeptID"
                                    },
                                    {
                                        "name": "DesigID"
                                    },
                                    {
                                        "name": "JoinDate"
                                    }
                                ]
                            },
                            "data": [
                                {
                                    "EmpID": "201",
                                    "FirstName": "Ahmed",
                                    "LastName": "Khan",
                                    "DeptID": "1",
                                    "DesigID": "1",
                                    "JoinDate": "2020-01-10"
                                },
                                {
                                    "EmpID": "202",
                                    "FirstName": "Zara",
                                    "LastName": "Sheikh",
                                    "DeptID": "2",
                                    "DesigID": "2",
                                    "JoinDate": "2021-05-15"
                                },
                                {
                                    "EmpID": "203",
                                    "FirstName": "Imran",
                                    "LastName": "Ali",
                                    "DeptID": "3",
                                    "DesigID": "3",
                                    "JoinDate": "2019-11-01"
                                },
                                {
                                    "EmpID": "204",
                                    "FirstName": "Sana",
                                    "LastName": "Malik",
                                    "DeptID": "4",
                                    "DesigID": "4",
                                    "JoinDate": "2018-06-20"
                                },
                                {
                                    "EmpID": "207",
                                    "FirstName": "Tariq",
                                    "LastName": "Zaman",
                                    "DeptID": "3",
                                    "DesigID": "3",
                                    "JoinDate": "2020-07-25"
                                },
                                {
                                    "EmpID": "208",
                                    "FirstName": "Tania",
                                    "LastName": "Agarwal",
                                    "DeptID": "2",
                                    "DesigID": "2",
                                    "JoinDate": "2022-03-01"
                                }
                            ]
                        },
                        "text/html": [
                            "<table>",
                            "<tr><th>EmpID</th><th>FirstName</th><th>LastName</th><th>DeptID</th><th>DesigID</th><th>JoinDate</th></tr>",
                            "<tr><td>201</td><td>Ahmed</td><td>Khan</td><td>1</td><td>1</td><td>2020-01-10</td></tr>",
                            "<tr><td>202</td><td>Zara</td><td>Sheikh</td><td>2</td><td>2</td><td>2021-05-15</td></tr>",
                            "<tr><td>203</td><td>Imran</td><td>Ali</td><td>3</td><td>3</td><td>2019-11-01</td></tr>",
                            "<tr><td>204</td><td>Sana</td><td>Malik</td><td>4</td><td>4</td><td>2018-06-20</td></tr>",
                            "<tr><td>207</td><td>Tariq</td><td>Zaman</td><td>3</td><td>3</td><td>2020-07-25</td></tr>",
                            "<tr><td>208</td><td>Tania</td><td>Agarwal</td><td>2</td><td>2</td><td>2022-03-01</td></tr>",
                            "</table>"
                        ]
                    }
                }
            ],
            "execution_count": 2
        },
        {
            "cell_type": "code",
            "source": [
                "-- 2. View all Departments\r\n",
                "SELECT * FROM Departments;\r\n",
                ""
            ],
            "metadata": {
                "language": "sql",
                "azdata_cell_guid": "a1f13154-ec6b-4fae-9731-1e99672eac5a"
            },
            "outputs": [
                {
                    "output_type": "display_data",
                    "data": {
                        "text/html": "(4 rows affected)"
                    },
                    "metadata": {}
                },
                {
                    "output_type": "display_data",
                    "data": {
                        "text/html": "Total execution time: 00:00:00.004"
                    },
                    "metadata": {}
                },
                {
                    "output_type": "execute_result",
                    "metadata": {},
                    "execution_count": 3,
                    "data": {
                        "application/vnd.dataresource+json": {
                            "schema": {
                                "fields": [
                                    {
                                        "name": "DeptID"
                                    },
                                    {
                                        "name": "DeptName"
                                    }
                                ]
                            },
                            "data": [
                                {
                                    "DeptID": "1",
                                    "DeptName": "IT"
                                },
                                {
                                    "DeptID": "2",
                                    "DeptName": "HR"
                                },
                                {
                                    "DeptID": "3",
                                    "DeptName": "Sales"
                                },
                                {
                                    "DeptID": "4",
                                    "DeptName": "Finance"
                                }
                            ]
                        },
                        "text/html": [
                            "<table>",
                            "<tr><th>DeptID</th><th>DeptName</th></tr>",
                            "<tr><td>1</td><td>IT</td></tr>",
                            "<tr><td>2</td><td>HR</td></tr>",
                            "<tr><td>3</td><td>Sales</td></tr>",
                            "<tr><td>4</td><td>Finance</td></tr>",
                            "</table>"
                        ]
                    }
                }
            ],
            "execution_count": 3
        },
        {
            "cell_type": "code",
            "source": [
                "-- 3. View all Designations\r\n",
                "SELECT * FROM Designations;\r\n",
                ""
            ],
            "metadata": {
                "language": "sql",
                "azdata_cell_guid": "9f287c95-4f76-4922-8575-ca09ead0d0e2"
            },
            "outputs": [
                {
                    "output_type": "display_data",
                    "data": {
                        "text/html": "(4 rows affected)"
                    },
                    "metadata": {}
                },
                {
                    "output_type": "display_data",
                    "data": {
                        "text/html": "Total execution time: 00:00:00.004"
                    },
                    "metadata": {}
                },
                {
                    "output_type": "execute_result",
                    "metadata": {},
                    "execution_count": 4,
                    "data": {
                        "application/vnd.dataresource+json": {
                            "schema": {
                                "fields": [
                                    {
                                        "name": "DesigID"
                                    },
                                    {
                                        "name": "DesigTitle"
                                    }
                                ]
                            },
                            "data": [
                                {
                                    "DesigID": "1",
                                    "DesigTitle": "Software Engineer"
                                },
                                {
                                    "DesigID": "2",
                                    "DesigTitle": "HR Executive"
                                },
                                {
                                    "DesigID": "3",
                                    "DesigTitle": "Sales Associate"
                                },
                                {
                                    "DesigID": "4",
                                    "DesigTitle": "Accountant"
                                }
                            ]
                        },
                        "text/html": [
                            "<table>",
                            "<tr><th>DesigID</th><th>DesigTitle</th></tr>",
                            "<tr><td>1</td><td>Software Engineer</td></tr>",
                            "<tr><td>2</td><td>HR Executive</td></tr>",
                            "<tr><td>3</td><td>Sales Associate</td></tr>",
                            "<tr><td>4</td><td>Accountant</td></tr>",
                            "</table>"
                        ]
                    }
                }
            ],
            "execution_count": 4
        },
        {
            "cell_type": "code",
            "source": [
                "-- 4. View all Salaries\r\n",
                "SELECT * FROM Salaries;\r\n",
                ""
            ],
            "metadata": {
                "language": "sql",
                "azdata_cell_guid": "b32ae258-7d5d-4951-a751-6abff19187a8"
            },
            "outputs": [
                {
                    "output_type": "display_data",
                    "data": {
                        "text/html": "(6 rows affected)"
                    },
                    "metadata": {}
                },
                {
                    "output_type": "display_data",
                    "data": {
                        "text/html": "Total execution time: 00:00:00.004"
                    },
                    "metadata": {}
                },
                {
                    "output_type": "execute_result",
                    "metadata": {},
                    "execution_count": 5,
                    "data": {
                        "application/vnd.dataresource+json": {
                            "schema": {
                                "fields": [
                                    {
                                        "name": "EmpID"
                                    },
                                    {
                                        "name": "BasicSalary"
                                    },
                                    {
                                        "name": "Allowance"
                                    },
                                    {
                                        "name": "Deductions"
                                    },
                                    {
                                        "name": "Bonus"
                                    }
                                ]
                            },
                            "data": [
                                {
                                    "EmpID": "201",
                                    "BasicSalary": "60000.00",
                                    "Allowance": "5000.00",
                                    "Deductions": "2000.00",
                                    "Bonus": "2500.00"
                                },
                                {
                                    "EmpID": "202",
                                    "BasicSalary": "50000.00",
                                    "Allowance": "4000.00",
                                    "Deductions": "1500.00",
                                    "Bonus": "1000.00"
                                },
                                {
                                    "EmpID": "203",
                                    "BasicSalary": "45000.00",
                                    "Allowance": "3000.00",
                                    "Deductions": "1200.00",
                                    "Bonus": "1000.00"
                                },
                                {
                                    "EmpID": "204",
                                    "BasicSalary": "55000.00",
                                    "Allowance": "3500.00",
                                    "Deductions": "1700.00",
                                    "Bonus": "1000.00"
                                },
                                {
                                    "EmpID": "207",
                                    "BasicSalary": "52000.00",
                                    "Allowance": "3500.00",
                                    "Deductions": "1200.00",
                                    "Bonus": "1000.00"
                                },
                                {
                                    "EmpID": "208",
                                    "BasicSalary": "48000.00",
                                    "Allowance": "3000.00",
                                    "Deductions": "1500.00",
                                    "Bonus": "1000.00"
                                }
                            ]
                        },
                        "text/html": [
                            "<table>",
                            "<tr><th>EmpID</th><th>BasicSalary</th><th>Allowance</th><th>Deductions</th><th>Bonus</th></tr>",
                            "<tr><td>201</td><td>60000.00</td><td>5000.00</td><td>2000.00</td><td>2500.00</td></tr>",
                            "<tr><td>202</td><td>50000.00</td><td>4000.00</td><td>1500.00</td><td>1000.00</td></tr>",
                            "<tr><td>203</td><td>45000.00</td><td>3000.00</td><td>1200.00</td><td>1000.00</td></tr>",
                            "<tr><td>204</td><td>55000.00</td><td>3500.00</td><td>1700.00</td><td>1000.00</td></tr>",
                            "<tr><td>207</td><td>52000.00</td><td>3500.00</td><td>1200.00</td><td>1000.00</td></tr>",
                            "<tr><td>208</td><td>48000.00</td><td>3000.00</td><td>1500.00</td><td>1000.00</td></tr>",
                            "</table>"
                        ]
                    }
                }
            ],
            "execution_count": 5
        },
        {
            "cell_type": "code",
            "source": [
                "\r\n",
                "-- 5. Insert a new Employee\r\n",
                "INSERT INTO Employees (EmpID, FirstName, LastName, DeptID, DesigID, JoinDate)\r\n",
                "VALUES (205, 'Bilal', 'Hussain', 1, 1, '2022-03-01');\r\n",
                ""
            ],
            "metadata": {
                "language": "sql",
                "azdata_cell_guid": "f9baf99d-87a9-4cc8-b605-2524aba1cb0a"
            },
            "outputs": [],
            "execution_count": null
        },
        {
            "cell_type": "code",
            "source": [
                "-- 6. Update an Employee's Designation\r\n",
                "UPDATE Employees\r\n",
                "SET DesigID = 2\r\n",
                "WHERE EmpID = 205;\r\n",
                ""
            ],
            "metadata": {
                "language": "sql",
                "azdata_cell_guid": "7794bfce-c75e-467a-9277-df05ff35c746"
            },
            "outputs": [],
            "execution_count": null
        },
        {
            "cell_type": "code",
            "source": [
                "-- 7a. First delete from Salaries\r\n",
                "DELETE FROM Salaries\r\n",
                "WHERE EmpID = 205;\r\n",
                ""
            ],
            "metadata": {
                "language": "sql",
                "azdata_cell_guid": "b43d3d48-2680-450b-ba97-5469bc55d1f6"
            },
            "outputs": [],
            "execution_count": null
        },
        {
            "cell_type": "code",
            "source": [
                "-- 7b. Then delete from Employees\r\n",
                "DELETE FROM Employees\r\n",
                "WHERE EmpID = 205;\r\n",
                ""
            ],
            "metadata": {
                "language": "sql",
                "azdata_cell_guid": "23e018ba-effb-4ba0-ad7f-d70bb145dea5"
            },
            "outputs": [],
            "execution_count": null
        },
        {
            "cell_type": "code",
            "source": [
                "-- 8. Add a new column to Salaries table\r\n",
                "ALTER TABLE Salaries\r\n",
                "ADD Bonus DECIMAL(10,2);\r\n",
                ""
            ],
            "metadata": {
                "language": "sql",
                "azdata_cell_guid": "464792c8-1a0b-441c-9bf1-edc2a17f9349"
            },
            "outputs": [],
            "execution_count": null
        },
        {
            "cell_type": "code",
            "source": [
                "-- 9. Update Bonus for an employee\r\n",
                "UPDATE Salaries\r\n",
                "SET Bonus = 2500\r\n",
                "WHERE EmpID = 201;\r\n",
                ""
            ],
            "metadata": {
                "language": "sql",
                "azdata_cell_guid": "9957f86b-e362-436d-86d6-45b45f298f93"
            },
            "outputs": [],
            "execution_count": null
        },
        {
            "cell_type": "code",
            "source": [
                "-- 10. Drop the Bonus column (if needed)\r\n",
                "-- ALTER TABLE Salaries\r\n",
                "-- DROP COLUMN Bonus;\r\n",
                ""
            ],
            "metadata": {
                "language": "sql",
                "azdata_cell_guid": "cdab00c4-347e-4382-bc25-8f894673ab1f"
            },
            "outputs": [],
            "execution_count": null
        },
        {
            "cell_type": "markdown",
            "source": [
                "**<mark>\\-- ✅ INTERMEDIATE LEVEL QUERIES (JOIN, GROUP BY, CASE)</mark>**"
            ],
            "metadata": {
                "language": "",
                "azdata_cell_guid": "8d4e83c5-2f6d-4b2d-9e79-ccc03c6876d2"
            },
            "attachments": {}
        },
        {
            "cell_type": "code",
            "source": [
                "-- 11. Join Employees with Salaries\r\n",
                "SELECT E.EmpID, FirstName, LastName, BasicSalary, Allowance\r\n",
                "FROM Employees E\r\n",
                "JOIN Salaries S ON E.EmpID = S.EmpID;\r\n",
                ""
            ],
            "metadata": {
                "language": "sql",
                "azdata_cell_guid": "38f36804-49b6-45e6-a8d3-96081c02d50c"
            },
            "outputs": [
{
    "output_type": "display_data",
    "data": {
        "text/html": "(6 rows affected)"
    },
    "metadata": {}
}, {
    "output_type": "display_data",
    "data": {
        "text/html": "Total execution time: 00:00:00.010"
    },
    "metadata": {}
}, {
    "output_type": "execute_result",
    "metadata": {},
    "execution_count": 15,
    "data": {
        "application/vnd.dataresource+json": {
            "schema": {
                "fields": [
                    {
                        "name": "EmpID"
                    },
                    {
                        "name": "FirstName"
                    },
                    {
                        "name": "LastName"
                    },
                    {
                        "name": "BasicSalary"
                    },
                    {
                        "name": "Allowance"
                    }
                ]
            },
            "data": [
                {
                    "EmpID": "201",
                    "FirstName": "Ahmed",
                    "LastName": "Khan",
                    "BasicSalary": "60000.00",
                    "Allowance": "5000.00"
                },
                {
                    "EmpID": "202",
                    "FirstName": "Zara",
                    "LastName": "Sheikh",
                    "BasicSalary": "50000.00",
                    "Allowance": "4000.00"
                },
                {
                    "EmpID": "203",
                    "FirstName": "Imran",
                    "LastName": "Ali",
                    "BasicSalary": "45000.00",
                    "Allowance": "3000.00"
                },
                {
                    "EmpID": "204",
                    "FirstName": "Sana",
                    "LastName": "Malik",
                    "BasicSalary": "55000.00",
                    "Allowance": "3500.00"
                },
                {
                    "EmpID": "207",
                    "FirstName": "Tariq",
                    "LastName": "Zaman",
                    "BasicSalary": "52000.00",
                    "Allowance": "3500.00"
                },
                {
                    "EmpID": "208",
                    "FirstName": "Tania",
                    "LastName": "Agarwal",
                    "BasicSalary": "48000.00",
                    "Allowance": "3000.00"
                }
            ]
        },
        "text/html": [
            "<table>",
            "<tr><th>EmpID</th><th>FirstName</th><th>LastName</th><th>BasicSalary</th><th>Allowance</th></tr>",
            "<tr><td>201</td><td>Ahmed</td><td>Khan</td><td>60000.00</td><td>5000.00</td></tr>",
            "<tr><td>202</td><td>Zara</td><td>Sheikh</td><td>50000.00</td><td>4000.00</td></tr>",
            "<tr><td>203</td><td>Imran</td><td>Ali</td><td>45000.00</td><td>3000.00</td></tr>",
            "<tr><td>204</td><td>Sana</td><td>Malik</td><td>55000.00</td><td>3500.00</td></tr>",
            "<tr><td>207</td><td>Tariq</td><td>Zaman</td><td>52000.00</td><td>3500.00</td></tr>",
            "<tr><td>208</td><td>Tania</td><td>Agarwal</td><td>48000.00</td><td>3000.00</td></tr>",
            "</table>"
        ]
    }
}
],
            "execution_count": 15
        },
        {
            "cell_type": "code",
            "source": [
                "-- 12. Join Employees with Departments\r\n",
                "SELECT E.FirstName, E.LastName, D.DeptName\r\n",
                "FROM Employees E\r\n",
                "JOIN Departments D ON E.DeptID = D.DeptID;\r\n",
                ""
            ],
            "metadata": {
                "language": "sql",
                "azdata_cell_guid": "6f3d5bae-c145-441a-92f9-dde61c300f01"
            },
            "outputs": [
                {
                    "output_type": "display_data",
                    "data": {
                        "text/html": "(6 rows affected)"
                    },
                    "metadata": {}
                },
                {
                    "output_type": "display_data",
                    "data": {
                        "text/html": "Total execution time: 00:00:00.010"
                    },
                    "metadata": {}
                },
                {
                    "output_type": "execute_result",
                    "metadata": {},
                    "execution_count": 14,
                    "data": {
                        "application/vnd.dataresource+json": {
                            "schema": {
                                "fields": [
                                    {
                                        "name": "FirstName"
                                    },
                                    {
                                        "name": "LastName"
                                    },
                                    {
                                        "name": "DeptName"
                                    }
                                ]
                            },
                            "data": [
                                {
                                    "FirstName": "Ahmed",
                                    "LastName": "Khan",
                                    "DeptName": "IT"
                                },
                                {
                                    "FirstName": "Zara",
                                    "LastName": "Sheikh",
                                    "DeptName": "HR"
                                },
                                {
                                    "FirstName": "Imran",
                                    "LastName": "Ali",
                                    "DeptName": "Sales"
                                },
                                {
                                    "FirstName": "Sana",
                                    "LastName": "Malik",
                                    "DeptName": "Finance"
                                },
                                {
                                    "FirstName": "Tariq",
                                    "LastName": "Zaman",
                                    "DeptName": "Sales"
                                },
                                {
                                    "FirstName": "Tania",
                                    "LastName": "Agarwal",
                                    "DeptName": "HR"
                                }
                            ]
                        },
                        "text/html": [
                            "<table>",
                            "<tr><th>FirstName</th><th>LastName</th><th>DeptName</th></tr>",
                            "<tr><td>Ahmed</td><td>Khan</td><td>IT</td></tr>",
                            "<tr><td>Zara</td><td>Sheikh</td><td>HR</td></tr>",
                            "<tr><td>Imran</td><td>Ali</td><td>Sales</td></tr>",
                            "<tr><td>Sana</td><td>Malik</td><td>Finance</td></tr>",
                            "<tr><td>Tariq</td><td>Zaman</td><td>Sales</td></tr>",
                            "<tr><td>Tania</td><td>Agarwal</td><td>HR</td></tr>",
                            "</table>"
                        ]
                    }
                }
            ],
            "execution_count": 14
        },
        {
            "cell_type": "code",
            "source": [
                "-- 13. Total Salary (Basic + Allowance) for each employee\r\n",
                "SELECT EmpID, (BasicSalary + Allowance) AS TotalSalary\r\n",
                "FROM Salaries;\r\n",
                ""
            ],
            "metadata": {
                "language": "sql",
                "azdata_cell_guid": "683dd5ed-2339-4f7a-98be-fc653b19f6f5"
            },
            "outputs": [
                {
                    "output_type": "display_data",
                    "data": {
                        "text/html": "(6 rows affected)"
                    },
                    "metadata": {}
                },
                {
                    "output_type": "display_data",
                    "data": {
                        "text/html": "Total execution time: 00:00:00.009"
                    },
                    "metadata": {}
                },
                {
                    "output_type": "execute_result",
                    "metadata": {},
                    "execution_count": 13,
                    "data": {
                        "application/vnd.dataresource+json": {
                            "schema": {
                                "fields": [
                                    {
                                        "name": "EmpID"
                                    },
                                    {
                                        "name": "TotalSalary"
                                    }
                                ]
                            },
                            "data": [
                                {
                                    "EmpID": "201",
                                    "TotalSalary": "65000.00"
                                },
                                {
                                    "EmpID": "202",
                                    "TotalSalary": "54000.00"
                                },
                                {
                                    "EmpID": "203",
                                    "TotalSalary": "48000.00"
                                },
                                {
                                    "EmpID": "204",
                                    "TotalSalary": "58500.00"
                                },
                                {
                                    "EmpID": "207",
                                    "TotalSalary": "55500.00"
                                },
                                {
                                    "EmpID": "208",
                                    "TotalSalary": "51000.00"
                                }
                            ]
                        },
                        "text/html": [
                            "<table>",
                            "<tr><th>EmpID</th><th>TotalSalary</th></tr>",
                            "<tr><td>201</td><td>65000.00</td></tr>",
                            "<tr><td>202</td><td>54000.00</td></tr>",
                            "<tr><td>203</td><td>48000.00</td></tr>",
                            "<tr><td>204</td><td>58500.00</td></tr>",
                            "<tr><td>207</td><td>55500.00</td></tr>",
                            "<tr><td>208</td><td>51000.00</td></tr>",
                            "</table>"
                        ]
                    }
                }
            ],
            "execution_count": 13
        },
        {
            "cell_type": "code",
            "source": [
                "-- 14. Use CASE to show tax status\r\n",
                "SELECT EmpID, BasicSalary,\r\n",
                "  CASE \r\n",
                "    WHEN BasicSalary > 5000 THEN 'Taxable'\r\n",
                "    ELSE 'Non-Taxable'\r\n",
                "  END AS TaxStatus\r\n",
                "FROM Salaries;\r\n",
                ""
            ],
            "metadata": {
                "language": "sql",
                "azdata_cell_guid": "e8101d39-bbdf-40c9-8541-167740b61ba1"
            },
            "outputs": [
                {
                    "output_type": "display_data",
                    "data": {
                        "text/html": "(6 rows affected)"
                    },
                    "metadata": {}
                },
                {
                    "output_type": "display_data",
                    "data": {
                        "text/html": "Total execution time: 00:00:00.010"
                    },
                    "metadata": {}
                },
                {
                    "output_type": "execute_result",
                    "metadata": {},
                    "execution_count": 12,
                    "data": {
                        "application/vnd.dataresource+json": {
                            "schema": {
                                "fields": [
                                    {
                                        "name": "EmpID"
                                    },
                                    {
                                        "name": "BasicSalary"
                                    },
                                    {
                                        "name": "TaxStatus"
                                    }
                                ]
                            },
                            "data": [
                                {
                                    "EmpID": "201",
                                    "BasicSalary": "60000.00",
                                    "TaxStatus": "Taxable"
                                },
                                {
                                    "EmpID": "202",
                                    "BasicSalary": "50000.00",
                                    "TaxStatus": "Taxable"
                                },
                                {
                                    "EmpID": "203",
                                    "BasicSalary": "45000.00",
                                    "TaxStatus": "Taxable"
                                },
                                {
                                    "EmpID": "204",
                                    "BasicSalary": "55000.00",
                                    "TaxStatus": "Taxable"
                                },
                                {
                                    "EmpID": "207",
                                    "BasicSalary": "52000.00",
                                    "TaxStatus": "Taxable"
                                },
                                {
                                    "EmpID": "208",
                                    "BasicSalary": "48000.00",
                                    "TaxStatus": "Taxable"
                                }
                            ]
                        },
                        "text/html": [
                            "<table>",
                            "<tr><th>EmpID</th><th>BasicSalary</th><th>TaxStatus</th></tr>",
                            "<tr><td>201</td><td>60000.00</td><td>Taxable</td></tr>",
                            "<tr><td>202</td><td>50000.00</td><td>Taxable</td></tr>",
                            "<tr><td>203</td><td>45000.00</td><td>Taxable</td></tr>",
                            "<tr><td>204</td><td>55000.00</td><td>Taxable</td></tr>",
                            "<tr><td>207</td><td>52000.00</td><td>Taxable</td></tr>",
                            "<tr><td>208</td><td>48000.00</td><td>Taxable</td></tr>",
                            "</table>"
                        ]
                    }
                }
            ],
            "execution_count": 12
        },
        {
            "cell_type": "code",
            "source": [
                "-- 15. Count employees in each department\r\n",
                "SELECT DeptID, COUNT(*) AS TotalEmployees\r\n",
                "FROM Employees\r\n",
                "GROUP BY DeptID;\r\n",
                ""
            ],
            "metadata": {
                "language": "sql",
                "azdata_cell_guid": "5ebb503f-53a7-4551-b52a-55b192f39a70"
            },
            "outputs": [
                {
                    "output_type": "display_data",
                    "data": {
                        "text/html": "(4 rows affected)"
                    },
                    "metadata": {}
                },
                {
                    "output_type": "display_data",
                    "data": {
                        "text/html": "Total execution time: 00:00:00.009"
                    },
                    "metadata": {}
                },
                {
                    "output_type": "execute_result",
                    "metadata": {},
                    "execution_count": 11,
                    "data": {
                        "application/vnd.dataresource+json": {
                            "schema": {
                                "fields": [
                                    {
                                        "name": "DeptID"
                                    },
                                    {
                                        "name": "TotalEmployees"
                                    }
                                ]
                            },
                            "data": [
                                {
                                    "DeptID": "1",
                                    "TotalEmployees": "1"
                                },
                                {
                                    "DeptID": "2",
                                    "TotalEmployees": "2"
                                },
                                {
                                    "DeptID": "3",
                                    "TotalEmployees": "2"
                                },
                                {
                                    "DeptID": "4",
                                    "TotalEmployees": "1"
                                }
                            ]
                        },
                        "text/html": [
                            "<table>",
                            "<tr><th>DeptID</th><th>TotalEmployees</th></tr>",
                            "<tr><td>1</td><td>1</td></tr>",
                            "<tr><td>2</td><td>2</td></tr>",
                            "<tr><td>3</td><td>2</td></tr>",
                            "<tr><td>4</td><td>1</td></tr>",
                            "</table>"
                        ]
                    }
                }
            ],
            "execution_count": 11
        },
        {
            "cell_type": "code",
            "source": [
                "-- 16. Average salary per department\r\n",
                "SELECT E.DeptID, AVG(S.BasicSalary) AS AvgSalary\r\n",
                "FROM Employees E\r\n",
                "JOIN Salaries S ON E.EmpID = S.EmpID\r\n",
                "GROUP BY E.DeptID;\r\n",
                ""
            ],
            "metadata": {
                "language": "sql",
                "azdata_cell_guid": "30ba1559-dc2f-4e8d-bf10-278b3d0557db"
            },
            "outputs": [
                {
                    "output_type": "display_data",
                    "data": {
                        "text/html": "(4 rows affected)"
                    },
                    "metadata": {}
                },
                {
                    "output_type": "display_data",
                    "data": {
                        "text/html": "Total execution time: 00:00:00.016"
                    },
                    "metadata": {}
                },
                {
                    "output_type": "execute_result",
                    "metadata": {},
                    "execution_count": 10,
                    "data": {
                        "application/vnd.dataresource+json": {
                            "schema": {
                                "fields": [
                                    {
                                        "name": "DeptID"
                                    },
                                    {
                                        "name": "AvgSalary"
                                    }
                                ]
                            },
                            "data": [
                                {
                                    "DeptID": "1",
                                    "AvgSalary": "60000.000000"
                                },
                                {
                                    "DeptID": "2",
                                    "AvgSalary": "49000.000000"
                                },
                                {
                                    "DeptID": "3",
                                    "AvgSalary": "48500.000000"
                                },
                                {
                                    "DeptID": "4",
                                    "AvgSalary": "55000.000000"
                                }
                            ]
                        },
                        "text/html": [
                            "<table>",
                            "<tr><th>DeptID</th><th>AvgSalary</th></tr>",
                            "<tr><td>1</td><td>60000.000000</td></tr>",
                            "<tr><td>2</td><td>49000.000000</td></tr>",
                            "<tr><td>3</td><td>48500.000000</td></tr>",
                            "<tr><td>4</td><td>55000.000000</td></tr>",
                            "</table>"
                        ]
                    }
                }
            ],
            "execution_count": 10
        },
        {
            "cell_type": "code",
            "source": [
                "-- 17. Employees who joined after 2022\r\n",
                "SELECT * FROM Employees\r\n",
                "WHERE JoinDate > '2022-01-01';\r\n",
                ""
            ],
            "metadata": {
                "language": "sql",
                "azdata_cell_guid": "9c188c16-1060-415b-956b-448ca817f7c5"
            },
            "outputs": [
                {
                    "output_type": "display_data",
                    "data": {
                        "text/html": "(1 row affected)"
                    },
                    "metadata": {}
                },
                {
                    "output_type": "display_data",
                    "data": {
                        "text/html": "Total execution time: 00:00:00.010"
                    },
                    "metadata": {}
                },
                {
                    "output_type": "execute_result",
                    "metadata": {},
                    "execution_count": 9,
                    "data": {
                        "application/vnd.dataresource+json": {
                            "schema": {
                                "fields": [
                                    {
                                        "name": "EmpID"
                                    },
                                    {
                                        "name": "FirstName"
                                    },
                                    {
                                        "name": "LastName"
                                    },
                                    {
                                        "name": "DeptID"
                                    },
                                    {
                                        "name": "DesigID"
                                    },
                                    {
                                        "name": "JoinDate"
                                    }
                                ]
                            },
                            "data": [
                                {
                                    "EmpID": "208",
                                    "FirstName": "Tania",
                                    "LastName": "Agarwal",
                                    "DeptID": "2",
                                    "DesigID": "2",
                                    "JoinDate": "2022-03-01"
                                }
                            ]
                        },
                        "text/html": [
                            "<table>",
                            "<tr><th>EmpID</th><th>FirstName</th><th>LastName</th><th>DeptID</th><th>DesigID</th><th>JoinDate</th></tr>",
                            "<tr><td>208</td><td>Tania</td><td>Agarwal</td><td>2</td><td>2</td><td>2022-03-01</td></tr>",
                            "</table>"
                        ]
                    }
                }
            ],
            "execution_count": 9
        },
        {
            "cell_type": "code",
            "source": [
                "-- 18. Get top 3 highest salaries\r\n",
                "SELECT TOP 3 EmpID, BasicSalary\r\n",
                "FROM Salaries\r\n",
                "ORDER BY BasicSalary DESC;\r\n",
                ""
            ],
            "metadata": {
                "language": "sql",
                "azdata_cell_guid": "56c66cf1-02e7-4521-9b7d-31a2d73f02ec"
            },
            "outputs": [
                {
                    "output_type": "display_data",
                    "data": {
                        "text/html": "(3 rows affected)"
                    },
                    "metadata": {}
                },
                {
                    "output_type": "display_data",
                    "data": {
                        "text/html": "Total execution time: 00:00:00.010"
                    },
                    "metadata": {}
                },
                {
                    "output_type": "execute_result",
                    "metadata": {},
                    "execution_count": 8,
                    "data": {
                        "application/vnd.dataresource+json": {
                            "schema": {
                                "fields": [
                                    {
                                        "name": "EmpID"
                                    },
                                    {
                                        "name": "BasicSalary"
                                    }
                                ]
                            },
                            "data": [
                                {
                                    "EmpID": "201",
                                    "BasicSalary": "60000.00"
                                },
                                {
                                    "EmpID": "204",
                                    "BasicSalary": "55000.00"
                                },
                                {
                                    "EmpID": "207",
                                    "BasicSalary": "52000.00"
                                }
                            ]
                        },
                        "text/html": [
                            "<table>",
                            "<tr><th>EmpID</th><th>BasicSalary</th></tr>",
                            "<tr><td>201</td><td>60000.00</td></tr>",
                            "<tr><td>204</td><td>55000.00</td></tr>",
                            "<tr><td>207</td><td>52000.00</td></tr>",
                            "</table>"
                        ]
                    }
                }
            ],
            "execution_count": 8
        },
        {
            "cell_type": "code",
            "source": [
                "-- 19. Employees without salary records\r\n",
                "SELECT *\r\n",
                "FROM Employees\r\n",
                "WHERE EmpID NOT IN (SELECT EmpID FROM Salaries);\r\n",
                ""
            ],
            "metadata": {
                "language": "sql",
                "azdata_cell_guid": "7a76e9e9-69fa-42a9-8126-1ff779e72e89"
            },
            "outputs": [
                {
                    "output_type": "display_data",
                    "data": {
                        "text/html": "(0 rows affected)"
                    },
                    "metadata": {}
                },
                {
                    "output_type": "display_data",
                    "data": {
                        "text/html": "Total execution time: 00:00:00.005"
                    },
                    "metadata": {}
                },
                {
                    "output_type": "execute_result",
                    "metadata": {},
                    "execution_count": 7,
                    "data": {
                        "application/vnd.dataresource+json": {
                            "schema": {
                                "fields": [
                                    {
                                        "name": "EmpID"
                                    },
                                    {
                                        "name": "FirstName"
                                    },
                                    {
                                        "name": "LastName"
                                    },
                                    {
                                        "name": "DeptID"
                                    },
                                    {
                                        "name": "DesigID"
                                    },
                                    {
                                        "name": "JoinDate"
                                    }
                                ]
                            },
                            "data": []
                        },
                        "text/html": [
                            "<table>",
                            "<tr><th>EmpID</th><th>FirstName</th><th>LastName</th><th>DeptID</th><th>DesigID</th><th>JoinDate</th></tr>",
                            "</table>"
                        ]
                    }
                }
            ],
            "execution_count": 7
        },
        {
            "cell_type": "code",
            "source": [
                "-- 20. Show full name and total salary\r\n",
                "SELECT FirstName + ' ' + LastName AS FullName,\r\n",
                "       (BasicSalary + Allowance - ISNULL(Deductions, 0)) AS NetSalary\r\n",
                "FROM Employees E\r\n",
                "JOIN Salaries S ON E.EmpID = S.EmpID;\r\n",
                ""
            ],
            "metadata": {
                "language": "sql",
                "azdata_cell_guid": "3663dacd-1e69-438c-b868-1c51f26f237e"
            },
            "outputs": [
                {
                    "output_type": "display_data",
                    "data": {
                        "text/html": "(6 rows affected)"
                    },
                    "metadata": {}
                },
                {
                    "output_type": "display_data",
                    "data": {
                        "text/html": "Total execution time: 00:00:00.014"
                    },
                    "metadata": {}
                },
                {
                    "output_type": "execute_result",
                    "metadata": {},
                    "execution_count": 6,
                    "data": {
                        "application/vnd.dataresource+json": {
                            "schema": {
                                "fields": [
                                    {
                                        "name": "FullName"
                                    },
                                    {
                                        "name": "NetSalary"
                                    }
                                ]
                            },
                            "data": [
                                {
                                    "FullName": "Ahmed Khan",
                                    "NetSalary": "63000.00"
                                },
                                {
                                    "FullName": "Zara Sheikh",
                                    "NetSalary": "52500.00"
                                },
                                {
                                    "FullName": "Imran Ali",
                                    "NetSalary": "46800.00"
                                },
                                {
                                    "FullName": "Sana Malik",
                                    "NetSalary": "56800.00"
                                },
                                {
                                    "FullName": "Tariq Zaman",
                                    "NetSalary": "54300.00"
                                },
                                {
                                    "FullName": "Tania Agarwal",
                                    "NetSalary": "49500.00"
                                }
                            ]
                        },
                        "text/html": [
                            "<table>",
                            "<tr><th>FullName</th><th>NetSalary</th></tr>",
                            "<tr><td>Ahmed Khan</td><td>63000.00</td></tr>",
                            "<tr><td>Zara Sheikh</td><td>52500.00</td></tr>",
                            "<tr><td>Imran Ali</td><td>46800.00</td></tr>",
                            "<tr><td>Sana Malik</td><td>56800.00</td></tr>",
                            "<tr><td>Tariq Zaman</td><td>54300.00</td></tr>",
                            "<tr><td>Tania Agarwal</td><td>49500.00</td></tr>",
                            "</table>"
                        ]
                    }
                }
            ],
            "execution_count": 6
        },
        {
            "cell_type": "code",
            "source": [
                "-- ✅ You're now practicing SELECT, INSERT, UPDATE, DELETE, ALTER, JOIN, GROUP BY, CASE\r\n",
                ""
            ],
            "metadata": {
                "language": "sql",
                "azdata_cell_guid": "46e86b69-120f-4065-a719-b6f946ecb98c"
            },
            "outputs": [],
            "execution_count": null
        }
    ]
}