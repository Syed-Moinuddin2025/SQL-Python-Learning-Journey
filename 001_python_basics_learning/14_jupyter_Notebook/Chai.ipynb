{
 "cells": [
  {
   "cell_type": "code",
   "execution_count": 2,
   "id": "73fe6959",
   "metadata": {},
   "outputs": [
    {
     "name": "stdout",
     "output_type": "stream",
     "text": [
      "Love never end \n"
     ]
    }
   ],
   "source": [
    "print(\"Love never end \")"
   ]
  },
  {
   "cell_type": "code",
   "execution_count": 4,
   "id": "489a8c9c",
   "metadata": {},
   "outputs": [
    {
     "name": "stdout",
     "output_type": "stream",
     "text": [
      "1-2-3-4-5-6-7-8-9-10-11-12-13-14-15-16-17-18-19-20-"
     ]
    }
   ],
   "source": [
    "for i in range(1,21):\n",
    "    print(i , end=\"-\")"
   ]
  },
  {
   "cell_type": "markdown",
   "id": "639152a2",
   "metadata": {},
   "source": [
    "## Chai aur Python "
   ]
  },
  {
   "cell_type": "code",
   "execution_count": null,
   "id": "09395659",
   "metadata": {},
   "outputs": [],
   "source": []
  },
  {
   "cell_type": "code",
   "execution_count": null,
   "id": "78434f11",
   "metadata": {},
   "outputs": [],
   "source": []
  },
  {
   "cell_type": "code",
   "execution_count": null,
   "id": "f896aecf",
   "metadata": {},
   "outputs": [],
   "source": []
  },
  {
   "cell_type": "code",
   "execution_count": null,
   "id": "19c6b81a",
   "metadata": {},
   "outputs": [],
   "source": []
  }
 ],
 "metadata": {
  "kernelspec": {
   "display_name": ".venv",
   "language": "python",
   "name": "python3"
  },
  "language_info": {
   "codemirror_mode": {
    "name": "ipython",
    "version": 3
   },
   "file_extension": ".py",
   "mimetype": "text/x-python",
   "name": "python",
   "nbconvert_exporter": "python",
   "pygments_lexer": "ipython3",
   "version": "3.12.7"
  }
 },
 "nbformat": 4,
 "nbformat_minor": 5
}
