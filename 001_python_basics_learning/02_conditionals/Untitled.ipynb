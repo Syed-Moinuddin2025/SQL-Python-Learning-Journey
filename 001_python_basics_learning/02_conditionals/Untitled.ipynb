{
 "cells": [
  {
   "cell_type": "code",
   "execution_count": null,
   "id": "757a7b14-fb5c-41e1-a550-534dee575662",
   "metadata": {},
   "outputs": [],
   "source": []
  }
 ],
 "metadata": {
  "kernelspec": {
   "display_name": "",
   "name": ""
  },
  "language_info": {
   "name": ""
  }
 },
 "nbformat": 4,
 "nbformat_minor": 5
}
